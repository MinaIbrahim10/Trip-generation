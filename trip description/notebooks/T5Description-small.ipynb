{
 "cells": [
  {
   "cell_type": "code",
   "execution_count": 2,
   "id": "9b54651f-2602-4e77-b7db-37c5fe39c440",
   "metadata": {},
   "outputs": [],
   "source": [
    "from sklearn.model_selection import train_test_split\n",
    "import tensorflow as tf\n",
    "from transformers import TFAutoModelForSeq2SeqLM, T5Tokenizer"
   ]
  },
  {
   "cell_type": "code",
   "execution_count": 2,
   "id": "4ce62537-cd4b-4281-bd11-b4966b3cf252",
   "metadata": {},
   "outputs": [
    {
     "name": "stderr",
     "output_type": "stream",
     "text": [
      "You are using the default legacy behaviour of the <class 'transformers.models.t5.tokenization_t5.T5Tokenizer'>. This is expected, and simply means that the `legacy` (previous) behavior will be used so nothing changes for you. If you want to use the new behaviour, set `legacy=False`. This should only be set if you understand what it means, and thoroughly read the reason why this was added as explained in https://github.com/huggingface/transformers/pull/24565\n"
     ]
    },
    {
     "name": "stdout",
     "output_type": "stream",
     "text": [
      "WARNING:tensorflow:From C:\\Users\\karam\\anaconda3\\Lib\\site-packages\\tf_keras\\src\\losses.py:2976: The name tf.losses.sparse_softmax_cross_entropy is deprecated. Please use tf.compat.v1.losses.sparse_softmax_cross_entropy instead.\n",
      "\n",
      "WARNING:tensorflow:From C:\\Users\\karam\\anaconda3\\Lib\\site-packages\\tf_keras\\src\\backend.py:873: The name tf.get_default_graph is deprecated. Please use tf.compat.v1.get_default_graph instead.\n",
      "\n"
     ]
    },
    {
     "name": "stderr",
     "output_type": "stream",
     "text": [
      "All PyTorch model weights were used when initializing TFT5ForConditionalGeneration.\n",
      "\n",
      "All the weights of TFT5ForConditionalGeneration were initialized from the PyTorch model.\n",
      "If your task is similar to the task the model of the checkpoint was trained on, you can already use TFT5ForConditionalGeneration for predictions without further training.\n"
     ]
    }
   ],
   "source": [
    "tokenizer = T5Tokenizer.from_pretrained(\"t5-small\")\n",
    "model = TFAutoModelForSeq2SeqLM.from_pretrained(\"t5-small\")"
   ]
  },
  {
   "cell_type": "code",
   "execution_count": 2,
   "id": "ec02a505-2638-41ec-9cc3-9a8ebe8079f7",
   "metadata": {},
   "outputs": [],
   "source": [
    "import pandas as pd"
   ]
  },
  {
   "cell_type": "code",
   "execution_count": 3,
   "id": "0cb3f83c-cc44-4405-a96f-f39c80ae7bd0",
   "metadata": {
    "scrolled": true
   },
   "outputs": [
    {
     "data": {
      "text/html": [
       "<div>\n",
       "<style scoped>\n",
       "    .dataframe tbody tr th:only-of-type {\n",
       "        vertical-align: middle;\n",
       "    }\n",
       "\n",
       "    .dataframe tbody tr th {\n",
       "        vertical-align: top;\n",
       "    }\n",
       "\n",
       "    .dataframe thead th {\n",
       "        text-align: right;\n",
       "    }\n",
       "</style>\n",
       "<table border=\"1\" class=\"dataframe\">\n",
       "  <thead>\n",
       "    <tr style=\"text-align: right;\">\n",
       "      <th></th>\n",
       "      <th>id</th>\n",
       "      <th>Activity</th>\n",
       "      <th>location</th>\n",
       "      <th>Description</th>\n",
       "      <th>Type</th>\n",
       "      <th>Price</th>\n",
       "      <th>openig-hours</th>\n",
       "      <th>holiday</th>\n",
       "      <th>act_time</th>\n",
       "      <th>time</th>\n",
       "    </tr>\n",
       "  </thead>\n",
       "  <tbody>\n",
       "    <tr>\n",
       "      <th>0</th>\n",
       "      <td>0</td>\n",
       "      <td>Sharjah Archaeology Museum</td>\n",
       "      <td>Sharjah City</td>\n",
       "      <td>Ancient treasures and artifacts from UAE's pas...</td>\n",
       "      <td>museum</td>\n",
       "      <td>low</td>\n",
       "      <td>Saturday to Thursday:8:00 20:00 Friday:16:00 2...</td>\n",
       "      <td>0</td>\n",
       "      <td>8:00 20:00</td>\n",
       "      <td>['morning','afternoon','evening']</td>\n",
       "    </tr>\n",
       "    <tr>\n",
       "      <th>1</th>\n",
       "      <td>1</td>\n",
       "      <td>Bait Al Naboodah Museum</td>\n",
       "      <td>Sharjah City</td>\n",
       "      <td>Historic Gulf home with coral walls, intricate...</td>\n",
       "      <td>museum</td>\n",
       "      <td>low</td>\n",
       "      <td>Saturday to Thursday:8:00 20:00 Friday:16:00 2...</td>\n",
       "      <td>0</td>\n",
       "      <td>8:00 20:00</td>\n",
       "      <td>['morning','afternoon','evening']</td>\n",
       "    </tr>\n",
       "    <tr>\n",
       "      <th>2</th>\n",
       "      <td>2</td>\n",
       "      <td>Bait Khalid Bin Ibrahim</td>\n",
       "      <td>Sharjah City</td>\n",
       "      <td>Historic house turned boutique hotel offers au...</td>\n",
       "      <td>old_hotel</td>\n",
       "      <td>low</td>\n",
       "      <td>Saturday to Thursday: 8:00 20:00 Friday: 16:00...</td>\n",
       "      <td>0</td>\n",
       "      <td>8:00 20:00</td>\n",
       "      <td>['morning','afternoon','evening']</td>\n",
       "    </tr>\n",
       "    <tr>\n",
       "      <th>3</th>\n",
       "      <td>3</td>\n",
       "      <td>Sharjah Calligraphy Museumc</td>\n",
       "      <td>Sharjah City</td>\n",
       "      <td>Arab world's only museum dedicated to calligra...</td>\n",
       "      <td>museum</td>\n",
       "      <td>low</td>\n",
       "      <td>Saturday to Thursday: 8:00 20:00 Friday: 16:00...</td>\n",
       "      <td>0</td>\n",
       "      <td>8:00 20:00</td>\n",
       "      <td>['morning','afternoon','evening']</td>\n",
       "    </tr>\n",
       "    <tr>\n",
       "      <th>4</th>\n",
       "      <td>4</td>\n",
       "      <td>Cultural Square</td>\n",
       "      <td>Sharjah City</td>\n",
       "      <td>Cultural Square: 14-metre high Quran sculpture...</td>\n",
       "      <td>museum</td>\n",
       "      <td>low</td>\n",
       "      <td>friday to friday:12:00 00:00</td>\n",
       "      <td>0</td>\n",
       "      <td>12:00 00:00</td>\n",
       "      <td>['morning','afternoon','evening','night']</td>\n",
       "    </tr>\n",
       "    <tr>\n",
       "      <th>...</th>\n",
       "      <td>...</td>\n",
       "      <td>...</td>\n",
       "      <td>...</td>\n",
       "      <td>...</td>\n",
       "      <td>...</td>\n",
       "      <td>...</td>\n",
       "      <td>...</td>\n",
       "      <td>...</td>\n",
       "      <td>...</td>\n",
       "      <td>...</td>\n",
       "    </tr>\n",
       "    <tr>\n",
       "      <th>1132</th>\n",
       "      <td>1182</td>\n",
       "      <td>Kalba Beach Corniche</td>\n",
       "      <td>East Coast</td>\n",
       "      <td>Explore the Kalba Beach Corniche in East Coast...</td>\n",
       "      <td>trendy</td>\n",
       "      <td>high</td>\n",
       "      <td>Monday to Friday: 9:00 AM - 6:00 PM</td>\n",
       "      <td>0</td>\n",
       "      <td>9:00 AM - 6:00 PM</td>\n",
       "      <td>['morning', 'afternoon', 'evening']</td>\n",
       "    </tr>\n",
       "    <tr>\n",
       "      <th>1133</th>\n",
       "      <td>1183</td>\n",
       "      <td>Bait Al Naboodah Museum</td>\n",
       "      <td>Sharjah City</td>\n",
       "      <td>Explore the Bait Al Naboodah Museum in Sharjah...</td>\n",
       "      <td>precious</td>\n",
       "      <td>medium</td>\n",
       "      <td>Monday to Friday: 9:00 AM - 6:00 PM</td>\n",
       "      <td>0</td>\n",
       "      <td>9:00 AM - 6:00 PM</td>\n",
       "      <td>['morning', 'afternoon', 'evening']</td>\n",
       "    </tr>\n",
       "    <tr>\n",
       "      <th>1134</th>\n",
       "      <td>1184</td>\n",
       "      <td>Najd Al Maqsar Village</td>\n",
       "      <td>Central Region</td>\n",
       "      <td>Explore the Najd Al Maqsar Village in Central ...</td>\n",
       "      <td>lively</td>\n",
       "      <td>medium</td>\n",
       "      <td>Monday to Friday: 9:00 AM - 6:00 PM</td>\n",
       "      <td>0</td>\n",
       "      <td>9:00 AM - 6:00 PM</td>\n",
       "      <td>['morning', 'afternoon', 'evening']</td>\n",
       "    </tr>\n",
       "    <tr>\n",
       "      <th>1135</th>\n",
       "      <td>1185</td>\n",
       "      <td>Kalba Birds of Prey Centre</td>\n",
       "      <td>East Coast</td>\n",
       "      <td>Explore the Kalba Birds of Prey Centre in East...</td>\n",
       "      <td>bustling</td>\n",
       "      <td>medium</td>\n",
       "      <td>Monday to Friday: 9:00 AM - 6:00 PM</td>\n",
       "      <td>0</td>\n",
       "      <td>9:00 AM - 6:00 PM</td>\n",
       "      <td>['morning', 'afternoon', 'evening']</td>\n",
       "    </tr>\n",
       "    <tr>\n",
       "      <th>1136</th>\n",
       "      <td>1186</td>\n",
       "      <td>The Royal Grill</td>\n",
       "      <td>Sharjah City</td>\n",
       "      <td>Explore the The Royal Grill in Sharjah City. A...</td>\n",
       "      <td>historic</td>\n",
       "      <td>medium</td>\n",
       "      <td>Monday to Friday: 9:00 AM - 6:00 PM</td>\n",
       "      <td>0</td>\n",
       "      <td>9:00 AM - 6:00 PM</td>\n",
       "      <td>['morning', 'afternoon', 'evening']</td>\n",
       "    </tr>\n",
       "  </tbody>\n",
       "</table>\n",
       "<p>1137 rows × 10 columns</p>\n",
       "</div>"
      ],
      "text/plain": [
       "        id                     Activity        location  \\\n",
       "0        0   Sharjah Archaeology Museum    Sharjah City   \n",
       "1        1      Bait Al Naboodah Museum    Sharjah City   \n",
       "2        2      Bait Khalid Bin Ibrahim    Sharjah City   \n",
       "3        3  Sharjah Calligraphy Museumc    Sharjah City   \n",
       "4        4              Cultural Square    Sharjah City   \n",
       "...    ...                          ...             ...   \n",
       "1132  1182         Kalba Beach Corniche      East Coast   \n",
       "1133  1183      Bait Al Naboodah Museum    Sharjah City   \n",
       "1134  1184       Najd Al Maqsar Village  Central Region   \n",
       "1135  1185   Kalba Birds of Prey Centre      East Coast   \n",
       "1136  1186              The Royal Grill    Sharjah City   \n",
       "\n",
       "                                            Description       Type   Price  \\\n",
       "0     Ancient treasures and artifacts from UAE's pas...     museum     low   \n",
       "1     Historic Gulf home with coral walls, intricate...     museum     low   \n",
       "2     Historic house turned boutique hotel offers au...  old_hotel     low   \n",
       "3     Arab world's only museum dedicated to calligra...     museum     low   \n",
       "4     Cultural Square: 14-metre high Quran sculpture...     museum     low   \n",
       "...                                                 ...        ...     ...   \n",
       "1132  Explore the Kalba Beach Corniche in East Coast...     trendy    high   \n",
       "1133  Explore the Bait Al Naboodah Museum in Sharjah...   precious  medium   \n",
       "1134  Explore the Najd Al Maqsar Village in Central ...     lively  medium   \n",
       "1135  Explore the Kalba Birds of Prey Centre in East...   bustling  medium   \n",
       "1136  Explore the The Royal Grill in Sharjah City. A...   historic  medium   \n",
       "\n",
       "                                           openig-hours holiday  \\\n",
       "0     Saturday to Thursday:8:00 20:00 Friday:16:00 2...       0   \n",
       "1     Saturday to Thursday:8:00 20:00 Friday:16:00 2...       0   \n",
       "2     Saturday to Thursday: 8:00 20:00 Friday: 16:00...       0   \n",
       "3     Saturday to Thursday: 8:00 20:00 Friday: 16:00...       0   \n",
       "4                         friday to friday:12:00 00:00        0   \n",
       "...                                                 ...     ...   \n",
       "1132                Monday to Friday: 9:00 AM - 6:00 PM       0   \n",
       "1133                Monday to Friday: 9:00 AM - 6:00 PM       0   \n",
       "1134                Monday to Friday: 9:00 AM - 6:00 PM       0   \n",
       "1135                Monday to Friday: 9:00 AM - 6:00 PM       0   \n",
       "1136                Monday to Friday: 9:00 AM - 6:00 PM       0   \n",
       "\n",
       "               act_time                                       time  \n",
       "0            8:00 20:00          ['morning','afternoon','evening']  \n",
       "1            8:00 20:00          ['morning','afternoon','evening']  \n",
       "2            8:00 20:00          ['morning','afternoon','evening']  \n",
       "3            8:00 20:00          ['morning','afternoon','evening']  \n",
       "4           12:00 00:00  ['morning','afternoon','evening','night']  \n",
       "...                 ...                                        ...  \n",
       "1132  9:00 AM - 6:00 PM        ['morning', 'afternoon', 'evening']  \n",
       "1133  9:00 AM - 6:00 PM        ['morning', 'afternoon', 'evening']  \n",
       "1134  9:00 AM - 6:00 PM        ['morning', 'afternoon', 'evening']  \n",
       "1135  9:00 AM - 6:00 PM        ['morning', 'afternoon', 'evening']  \n",
       "1136  9:00 AM - 6:00 PM        ['morning', 'afternoon', 'evening']  \n",
       "\n",
       "[1137 rows x 10 columns]"
      ]
     },
     "execution_count": 3,
     "metadata": {},
     "output_type": "execute_result"
    }
   ],
   "source": [
    "df=pd.read_csv('trip-data.csv')\n",
    "df"
   ]
  },
  {
   "cell_type": "code",
   "execution_count": 4,
   "id": "afc80a7c-86a6-48d0-8f6e-a1b125e90b5c",
   "metadata": {},
   "outputs": [],
   "source": [
    "df['input_text'] = df['location'] + \" \"+df[\"Type\"] \n",
    "df['target_text'] = df['Description']"
   ]
  },
  {
   "cell_type": "code",
   "execution_count": 5,
   "id": "8b94df93-0d57-4c33-a598-37039b0a54f2",
   "metadata": {},
   "outputs": [
    {
     "data": {
      "text/plain": [
       "42"
      ]
     },
     "execution_count": 5,
     "metadata": {},
     "output_type": "execute_result"
    }
   ],
   "source": [
    "df['input_text'].str.len().max()"
   ]
  },
  {
   "cell_type": "code",
   "execution_count": 6,
   "id": "b756e2b3-26ec-4cdf-803a-5ca119946387",
   "metadata": {},
   "outputs": [
    {
     "data": {
      "text/plain": [
       "163"
      ]
     },
     "execution_count": 6,
     "metadata": {},
     "output_type": "execute_result"
    }
   ],
   "source": [
    "df['target_text'].str.len().max()"
   ]
  },
  {
   "cell_type": "code",
   "execution_count": 7,
   "id": "fe805bf6-f869-4244-9402-2a6d8a57cc51",
   "metadata": {},
   "outputs": [],
   "source": [
    "from datasets import Dataset"
   ]
  },
  {
   "cell_type": "code",
   "execution_count": 8,
   "id": "bbb7628c-42d9-48f0-9d2d-bd7419e9a867",
   "metadata": {},
   "outputs": [],
   "source": [
    "train_df, test_df = train_test_split(df, test_size=0.2, random_state=42)"
   ]
  },
  {
   "cell_type": "code",
   "execution_count": 9,
   "id": "55025a41-e5e5-4f1f-84dd-f4e2718c5685",
   "metadata": {},
   "outputs": [],
   "source": [
    "train_dataset = Dataset.from_pandas(train_df[['input_text', 'target_text']])\n",
    "test_dataset = Dataset.from_pandas(test_df[['input_text', 'target_text']])"
   ]
  },
  {
   "cell_type": "code",
   "execution_count": 10,
   "id": "46e2ca86-9d1e-4ba1-9c9a-02c6368a9250",
   "metadata": {},
   "outputs": [
    {
     "data": {
      "application/vnd.jupyter.widget-view+json": {
       "model_id": "6c2e3a5becf84452925e20ba0d5131cb",
       "version_major": 2,
       "version_minor": 0
      },
      "text/plain": [
       "Map:   0%|          | 0/909 [00:00<?, ? examples/s]"
      ]
     },
     "metadata": {},
     "output_type": "display_data"
    },
    {
     "data": {
      "application/vnd.jupyter.widget-view+json": {
       "model_id": "c79c34b971294b7393a84da238b0b9d8",
       "version_major": 2,
       "version_minor": 0
      },
      "text/plain": [
       "Map:   0%|          | 0/228 [00:00<?, ? examples/s]"
      ]
     },
     "metadata": {},
     "output_type": "display_data"
    }
   ],
   "source": [
    "from transformers import T5Tokenizer\n",
    "import tensorflow as tf\n",
    "tokenizer = T5Tokenizer.from_pretrained('T5-Generation-Description-Tokenazier')\n",
    "def tokenize_function(examples):\n",
    "    input_texts = [str(text) if isinstance(text, str) else \"\" for text in examples[\"input_text\"]]\n",
    "    target_texts = [str(text) if isinstance(text, str) else \"\" for text in examples[\"target_text\"]]\n",
    "    model_inputs = tokenizer(input_texts, padding=\"max_length\", truncation=True, max_length=163, return_tensors=\"tf\")\n",
    "    labels = tokenizer(target_texts, padding=\"max_length\", truncation=True, max_length=163, return_tensors=\"tf\")\n",
    "    decoder_input_ids = labels['input_ids'][:, :-1]\n",
    "    decoder_input_ids = tf.concat([tf.zeros_like(decoder_input_ids[:, :1]), decoder_input_ids], axis=1)\n",
    "    model_inputs[\"labels\"] = labels[\"input_ids\"]\n",
    "    model_inputs[\"decoder_input_ids\"] = decoder_input_ids\n",
    "    return model_inputs\n",
    "train_dataset = train_dataset.map(tokenize_function, batched=True)\n",
    "test_dataset = test_dataset.map(tokenize_function, batched=True)\n",
    "def to_tf_dataset(dataset):\n",
    "    return tf.data.Dataset.from_tensor_slices((\n",
    "        {\n",
    "            'input_ids': dataset['input_ids'],\n",
    "            'attention_mask': dataset['attention_mask'],\n",
    "            'decoder_input_ids': dataset['decoder_input_ids'],\n",
    "        },\n",
    "        dataset['labels']\n",
    "    ))\n"
   ]
  },
  {
   "cell_type": "code",
   "execution_count": 11,
   "id": "2fd48365-cb88-49c9-a4b4-c5249f6703c5",
   "metadata": {},
   "outputs": [],
   "source": [
    "train_tf_dataset = to_tf_dataset(train_dataset).batch(4)\n",
    "test_tf_dataset = to_tf_dataset(test_dataset).batch(4)\n"
   ]
  },
  {
   "cell_type": "code",
   "execution_count": 13,
   "id": "7dc8a5fb-348f-4596-aef8-9efe5c84ca58",
   "metadata": {},
   "outputs": [
    {
     "name": "stdout",
     "output_type": "stream",
     "text": [
      "WARNING:tensorflow:From C:\\Users\\karam\\anaconda3\\Lib\\site-packages\\tf_keras\\src\\optimizers\\__init__.py:317: The name tf.train.Optimizer is deprecated. Please use tf.compat.v1.train.Optimizer instead.\n",
      "\n"
     ]
    }
   ],
   "source": [
    "from keras.optimizers import Adam\n",
    "model.compile(optimizer='adam', \n",
    "              loss=tf.keras.losses.SparseCategoricalCrossentropy(from_logits=True), \n",
    "              metrics=['accuracy'])"
   ]
  },
  {
   "cell_type": "code",
   "execution_count": 20,
   "id": "52e6ffa4-627e-4ab9-ad8d-bf1797fc7cb2",
   "metadata": {
    "scrolled": true
   },
   "outputs": [
    {
     "name": "stdout",
     "output_type": "stream",
     "text": [
      "Epoch 1/15\n",
      "WARNING:tensorflow:From C:\\Users\\karam\\anaconda3\\Lib\\site-packages\\tf_keras\\src\\utils\\tf_utils.py:492: The name tf.ragged.RaggedTensorValue is deprecated. Please use tf.compat.v1.ragged.RaggedTensorValue instead.\n",
      "\n",
      "WARNING:tensorflow:From C:\\Users\\karam\\anaconda3\\Lib\\site-packages\\tf_keras\\src\\engine\\base_layer_utils.py:384: The name tf.executing_eagerly_outside_functions is deprecated. Please use tf.compat.v1.executing_eagerly_outside_functions instead.\n",
      "\n",
      "228/228 [==============================] - 349s 1s/step - loss: 0.3989 - accuracy: 0.9486 - val_loss: 0.1459 - val_accuracy: 0.9747\n",
      "Epoch 2/15\n",
      "228/228 [==============================] - 315s 1s/step - loss: 0.1359 - accuracy: 0.9765 - val_loss: 0.1129 - val_accuracy: 0.9798\n",
      "Epoch 3/15\n",
      "228/228 [==============================] - 287s 1s/step - loss: 0.1020 - accuracy: 0.9812 - val_loss: 0.1022 - val_accuracy: 0.9814\n",
      "Epoch 4/15\n",
      "228/228 [==============================] - 285s 1s/step - loss: 0.0867 - accuracy: 0.9834 - val_loss: 0.0962 - val_accuracy: 0.9822\n",
      "Epoch 5/15\n",
      "228/228 [==============================] - 295s 1s/step - loss: 0.0751 - accuracy: 0.9849 - val_loss: 0.0961 - val_accuracy: 0.9828\n",
      "Epoch 6/15\n",
      "228/228 [==============================] - 292s 1s/step - loss: 0.0670 - accuracy: 0.9861 - val_loss: 0.0983 - val_accuracy: 0.9831\n",
      "Epoch 7/15\n",
      "228/228 [==============================] - 285s 1s/step - loss: 0.0618 - accuracy: 0.9869 - val_loss: 0.0993 - val_accuracy: 0.9832\n",
      "Epoch 8/15\n",
      "228/228 [==============================] - 292s 1s/step - loss: 0.0568 - accuracy: 0.9877 - val_loss: 0.0987 - val_accuracy: 0.9831\n",
      "Epoch 9/15\n",
      "228/228 [==============================] - 310s 1s/step - loss: 0.0528 - accuracy: 0.9882 - val_loss: 0.1012 - val_accuracy: 0.9833\n",
      "Epoch 10/15\n",
      "228/228 [==============================] - 307s 1s/step - loss: 0.0505 - accuracy: 0.9886 - val_loss: 0.1014 - val_accuracy: 0.9828\n",
      "Epoch 11/15\n",
      "228/228 [==============================] - 302s 1s/step - loss: 0.0474 - accuracy: 0.9892 - val_loss: 0.1010 - val_accuracy: 0.9834\n",
      "Epoch 12/15\n",
      "228/228 [==============================] - 301s 1s/step - loss: 0.0450 - accuracy: 0.9897 - val_loss: 0.1052 - val_accuracy: 0.9834\n",
      "Epoch 13/15\n",
      "228/228 [==============================] - 303s 1s/step - loss: 0.0432 - accuracy: 0.9899 - val_loss: 0.1055 - val_accuracy: 0.9834\n",
      "Epoch 14/15\n",
      "228/228 [==============================] - 303s 1s/step - loss: 0.0415 - accuracy: 0.9900 - val_loss: 0.1064 - val_accuracy: 0.9839\n",
      "Epoch 15/15\n",
      "228/228 [==============================] - 301s 1s/step - loss: 0.0409 - accuracy: 0.9904 - val_loss: 0.1105 - val_accuracy: 0.9833\n"
     ]
    },
    {
     "data": {
      "text/plain": [
       "<tf_keras.src.callbacks.History at 0x1edff6ad2b0>"
      ]
     },
     "execution_count": 20,
     "metadata": {},
     "output_type": "execute_result"
    }
   ],
   "source": [
    "model.fit(train_tf_dataset, validation_data=test_tf_dataset, epochs=15)\n"
   ]
  },
  {
   "cell_type": "code",
   "execution_count": 63,
   "id": "becca544-281f-4c80-8965-4357922236db",
   "metadata": {
    "scrolled": true
   },
   "outputs": [
    {
     "name": "stdout",
     "output_type": "stream",
     "text": [
      "Epoch 1/15\n",
      "228/228 [==============================] - 287s 1s/step - loss: 0.0401 - accuracy: 0.9906 - val_loss: 0.1126 - val_accuracy: 0.9833\n",
      "Epoch 2/15\n",
      "228/228 [==============================] - 298s 1s/step - loss: 0.0388 - accuracy: 0.9910 - val_loss: 0.1133 - val_accuracy: 0.9833\n",
      "Epoch 3/15\n",
      "228/228 [==============================] - 311s 1s/step - loss: 0.0372 - accuracy: 0.9911 - val_loss: 0.1161 - val_accuracy: 0.9831\n",
      "Epoch 4/15\n",
      "228/228 [==============================] - 306s 1s/step - loss: 0.0364 - accuracy: 0.9911 - val_loss: 0.1140 - val_accuracy: 0.9833\n",
      "Epoch 5/15\n",
      "228/228 [==============================] - 296s 1s/step - loss: 0.0352 - accuracy: 0.9914 - val_loss: 0.1181 - val_accuracy: 0.9831\n",
      "Epoch 6/15\n",
      "228/228 [==============================] - 298s 1s/step - loss: 0.0343 - accuracy: 0.9916 - val_loss: 0.1198 - val_accuracy: 0.9833\n",
      "Epoch 7/15\n",
      "228/228 [==============================] - 296s 1s/step - loss: 0.0316 - accuracy: 0.9919 - val_loss: 0.1243 - val_accuracy: 0.9832\n",
      "Epoch 8/15\n",
      "228/228 [==============================] - 289s 1s/step - loss: 0.0304 - accuracy: 0.9923 - val_loss: 0.1269 - val_accuracy: 0.9830\n",
      "Epoch 9/15\n",
      "228/228 [==============================] - 300s 1s/step - loss: 0.0292 - accuracy: 0.9922 - val_loss: 0.1285 - val_accuracy: 0.9828\n",
      "Epoch 10/15\n",
      "228/228 [==============================] - 288s 1s/step - loss: 0.0276 - accuracy: 0.9927 - val_loss: 0.1299 - val_accuracy: 0.9828\n",
      "Epoch 11/15\n",
      "228/228 [==============================] - 282s 1s/step - loss: 0.0264 - accuracy: 0.9928 - val_loss: 0.1357 - val_accuracy: 0.9829\n",
      "Epoch 12/15\n",
      "228/228 [==============================] - 282s 1s/step - loss: 0.0255 - accuracy: 0.9932 - val_loss: 0.1369 - val_accuracy: 0.9831\n",
      "Epoch 13/15\n",
      "228/228 [==============================] - 281s 1s/step - loss: 0.0239 - accuracy: 0.9933 - val_loss: 0.1349 - val_accuracy: 0.9829\n",
      "Epoch 14/15\n",
      "228/228 [==============================] - 282s 1s/step - loss: 0.0232 - accuracy: 0.9935 - val_loss: 0.1450 - val_accuracy: 0.9826\n",
      "Epoch 15/15\n",
      "228/228 [==============================] - 282s 1s/step - loss: 0.0218 - accuracy: 0.9939 - val_loss: 0.1404 - val_accuracy: 0.9828\n"
     ]
    },
    {
     "data": {
      "text/plain": [
       "<tf_keras.src.callbacks.History at 0x1ee4e4839b0>"
      ]
     },
     "execution_count": 63,
     "metadata": {},
     "output_type": "execute_result"
    }
   ],
   "source": [
    "model.fit(train_tf_dataset, validation_data=test_tf_dataset, epochs=15)"
   ]
  },
  {
   "cell_type": "code",
   "execution_count": 64,
   "id": "b721e2db-ba19-461b-b245-fe7d4ce84cd7",
   "metadata": {},
   "outputs": [
    {
     "data": {
      "text/plain": [
       "('T5-Generation-Description-Tokenazier\\\\tokenizer_config.json',\n",
       " 'T5-Generation-Description-Tokenazier\\\\special_tokens_map.json',\n",
       " 'T5-Generation-Description-Tokenazier\\\\spiece.model',\n",
       " 'T5-Generation-Description-Tokenazier\\\\added_tokens.json')"
      ]
     },
     "execution_count": 64,
     "metadata": {},
     "output_type": "execute_result"
    }
   ],
   "source": [
    "model.save_pretrained('T5-Generation-Description-Model')\n",
    "tokenizer.save_pretrained('T5-Generation-Description-Tokenazier')"
   ]
  },
  {
   "cell_type": "code",
   "execution_count": 17,
   "id": "52957fc1-d311-42df-9b9f-1337d07dcad7",
   "metadata": {},
   "outputs": [],
   "source": [
    "from nltk.translate.bleu_score import sentence_bleu,corpus_bleu"
   ]
  },
  {
   "cell_type": "code",
   "execution_count": 11,
   "id": "b47cfe13-0014-4c47-8951-e6ff8fd03bb1",
   "metadata": {},
   "outputs": [],
   "source": [
    "def generate_predictions(dataset, model, tokenizer):\n",
    "    predictions, references = [], []\n",
    "    for batch in dataset:\n",
    "        input_ids = batch[0]['input_ids']\n",
    "        attention_mask = batch[0]['attention_mask']\n",
    "        labels = batch[1]\n",
    "        outputs = model.generate(input_ids=input_ids, attention_mask=attention_mask, max_length=462)\n",
    "        decoded_preds = tokenizer.batch_decode(outputs, skip_special_tokens=True)\n",
    "        decoded_refs = tokenizer.batch_decode(labels, skip_special_tokens=True)\n",
    "        predictions.extend(decoded_preds)\n",
    "        references.extend(decoded_refs)\n",
    "    return predictions, references"
   ]
  },
  {
   "cell_type": "code",
   "execution_count": 19,
   "id": "193edfd8-e44b-44b0-8018-b96064588aa8",
   "metadata": {},
   "outputs": [],
   "source": [
    "import fractions\n",
    "\n",
    "# Save the original __new__ method\n",
    "_original_fraction_new = fractions.Fraction.__new__\n",
    "\n",
    "def patched_fraction_new(cls, numerator=0, denominator=None, _normalize=True):\n",
    "    # Call the original __new__ without the _normalize parameter\n",
    "    if denominator is None:\n",
    "        return _original_fraction_new(cls, numerator)\n",
    "    return _original_fraction_new(cls, numerator, denominator)\n",
    "\n",
    "# Patch the Fraction.__new__ method\n",
    "fractions.Fraction.__new__ = patched_fraction_new\n"
   ]
  },
  {
   "cell_type": "code",
   "execution_count": 20,
   "id": "4a7c72b6-88a1-467a-8b90-022c2b607317",
   "metadata": {},
   "outputs": [],
   "source": [
    "from nltk.translate.bleu_score import sentence_bleu, SmoothingFunction\n",
    "\n",
    "def calculate_bleu(predictions, references):\n",
    "    smoothing_function = SmoothingFunction().method1\n",
    "    bleu_scores = []\n",
    "    for pred, ref in zip(predictions, references):\n",
    "        ref_tokens = ref.split()\n",
    "        pred_tokens = pred.split()\n",
    "        score = sentence_bleu([ref_tokens], pred_tokens, smoothing_function=smoothing_function)\n",
    "        bleu_scores.append(score)\n",
    "    return sum(bleu_scores) / len(bleu_scores)"
   ]
  },
  {
   "cell_type": "code",
   "execution_count": 21,
   "id": "33f68504-b82b-436d-aa38-81f38f7cd01e",
   "metadata": {},
   "outputs": [],
   "source": [
    "predictions, references = generate_predictions(train_tf_dataset, model, tokenizer)"
   ]
  },
  {
   "cell_type": "code",
   "execution_count": 66,
   "id": "8b250d05-b719-486c-bb51-c77d2be6a646",
   "metadata": {},
   "outputs": [
    {
     "name": "stdout",
     "output_type": "stream",
     "text": [
      "Average BLEU Score: 0.6978235164468655\n"
     ]
    }
   ],
   "source": [
    "bleu_score = calculate_bleu(predictions, references)\n",
    "print(f\"Average BLEU Score: {bleu_score}\")"
   ]
  },
  {
   "cell_type": "code",
   "execution_count": 26,
   "id": "66de48be-ceea-43fa-a951-1e4ede12effa",
   "metadata": {},
   "outputs": [],
   "source": [
    "from rouge_score import rouge_scorer"
   ]
  },
  {
   "cell_type": "code",
   "execution_count": 24,
   "id": "20d17c82-29e1-4ccf-93ac-14917a9b4bfd",
   "metadata": {},
   "outputs": [],
   "source": [
    "def calculate_rouge(predictions, references):\n",
    "    scorer = rouge_scorer.RougeScorer(['rouge1', 'rouge2', 'rougeL'], use_stemmer=True)\n",
    "    rouge1, rouge2, rougeL = 0, 0, 0\n",
    "    for pred, ref in zip(predictions, references):\n",
    "        scores = scorer.score(ref, pred)\n",
    "        rouge1 += scores['rouge1'].fmeasure\n",
    "        rouge2 += scores['rouge2'].fmeasure\n",
    "        rougeL += scores['rougeL'].fmeasure\n",
    "    n = len(predictions)\n",
    "    return {\n",
    "        \"rouge1\": rouge1 / n,\n",
    "        \"rouge2\": rouge2 / n,\n",
    "        \"rougeL\": rougeL / n\n",
    "    }"
   ]
  },
  {
   "cell_type": "code",
   "execution_count": 67,
   "id": "3ee9fb17-a25f-4e85-9b5e-d5e59201151a",
   "metadata": {},
   "outputs": [
    {
     "name": "stdout",
     "output_type": "stream",
     "text": [
      "ROUGE-1: 0.8111\n",
      "ROUGE-2: 0.7479\n",
      "ROUGE-L: 0.8087\n"
     ]
    }
   ],
   "source": [
    "rouge_scores = calculate_rouge(predictions, references)\n",
    "print(f\"ROUGE-1: {rouge_scores['rouge1']:.4f}\")\n",
    "print(f\"ROUGE-2: {rouge_scores['rouge2']:.4f}\")\n",
    "print(f\"ROUGE-L: {rouge_scores['rougeL']:.4f}\")"
   ]
  },
  {
   "cell_type": "code",
   "execution_count": 3,
   "id": "2fd92ed1-12e3-4733-93fd-75e958513b23",
   "metadata": {
    "scrolled": true
   },
   "outputs": [
    {
     "name": "stdout",
     "output_type": "stream",
     "text": [
      "WARNING:tensorflow:From C:\\Users\\karam\\anaconda3\\Lib\\site-packages\\tf_keras\\src\\losses.py:2976: The name tf.losses.sparse_softmax_cross_entropy is deprecated. Please use tf.compat.v1.losses.sparse_softmax_cross_entropy instead.\n",
      "\n",
      "WARNING:tensorflow:From C:\\Users\\karam\\anaconda3\\Lib\\site-packages\\tf_keras\\src\\backend.py:873: The name tf.get_default_graph is deprecated. Please use tf.compat.v1.get_default_graph instead.\n",
      "\n"
     ]
    },
    {
     "name": "stderr",
     "output_type": "stream",
     "text": [
      "All model checkpoint layers were used when initializing TFT5ForConditionalGeneration.\n",
      "\n",
      "All the layers of TFT5ForConditionalGeneration were initialized from the model checkpoint at T5-Generation-Description-Model.\n",
      "If your task is similar to the task the model of the checkpoint was trained on, you can already use TFT5ForConditionalGeneration for predictions without further training.\n"
     ]
    }
   ],
   "source": [
    "model = TFAutoModelForSeq2SeqLM.from_pretrained(\"T5-Generation-Description-Model\")\n",
    "tokenizer = T5Tokenizer.from_pretrained(\"T5-Generation-Description-Tokenazier\")"
   ]
  },
  {
   "cell_type": "code",
   "execution_count": 4,
   "id": "80865753-a5e9-42ad-a556-1a739b60fd1c",
   "metadata": {},
   "outputs": [
    {
     "name": "stdout",
     "output_type": "stream",
     "text": [
      "Explore the Sharjah Ladies Club - Khorfakkan Branch in East Coast. A must-visit destination for visitors.\n"
     ]
    }
   ],
   "source": [
    "new_keywords = [\"rsort\"]\n",
    "input_ids = tokenizer(new_keywords, return_tensors=\"tf\").input_ids\n",
    "generated_ids = model.generate(input_ids, max_length=163, num_beams=5, no_repeat_ngram_size=2)\n",
    "generated_text = tokenizer.decode(generated_ids[0], skip_special_tokens=True)\n",
    "print(generated_text)\n"
   ]
  },
  {
   "cell_type": "code",
   "execution_count": 14,
   "id": "30eb49d7-0ac4-43e5-9d43-59af7114fd77",
   "metadata": {
    "scrolled": true
   },
   "outputs": [
    {
     "name": "stdout",
     "output_type": "stream",
     "text": [
      "Epoch 1/15\n",
      "WARNING:tensorflow:From C:\\Users\\karam\\anaconda3\\Lib\\site-packages\\tf_keras\\src\\utils\\tf_utils.py:492: The name tf.ragged.RaggedTensorValue is deprecated. Please use tf.compat.v1.ragged.RaggedTensorValue instead.\n",
      "\n",
      "WARNING:tensorflow:From C:\\Users\\karam\\anaconda3\\Lib\\site-packages\\tf_keras\\src\\engine\\base_layer_utils.py:384: The name tf.executing_eagerly_outside_functions is deprecated. Please use tf.compat.v1.executing_eagerly_outside_functions instead.\n",
      "\n",
      "228/228 [==============================] - 331s 1s/step - loss: 0.0227 - accuracy: 0.9936 - val_loss: 0.1445 - val_accuracy: 0.9828\n",
      "Epoch 2/15\n",
      "228/228 [==============================] - 299s 1s/step - loss: 0.0218 - accuracy: 0.9938 - val_loss: 0.1440 - val_accuracy: 0.9833\n",
      "Epoch 3/15\n",
      "228/228 [==============================] - 306s 1s/step - loss: 0.0201 - accuracy: 0.9941 - val_loss: 0.1468 - val_accuracy: 0.9828\n",
      "Epoch 4/15\n",
      "228/228 [==============================] - 301s 1s/step - loss: 0.0195 - accuracy: 0.9941 - val_loss: 0.1481 - val_accuracy: 0.9830\n",
      "Epoch 5/15\n",
      "228/228 [==============================] - 292s 1s/step - loss: 0.0195 - accuracy: 0.9943 - val_loss: 0.1421 - val_accuracy: 0.9828\n",
      "Epoch 6/15\n",
      "228/228 [==============================] - 290s 1s/step - loss: 0.0178 - accuracy: 0.9946 - val_loss: 0.1483 - val_accuracy: 0.9830\n",
      "Epoch 7/15\n",
      "228/228 [==============================] - 301s 1s/step - loss: 0.0179 - accuracy: 0.9947 - val_loss: 0.1462 - val_accuracy: 0.9832\n",
      "Epoch 8/15\n",
      "228/228 [==============================] - 288s 1s/step - loss: 0.0181 - accuracy: 0.9944 - val_loss: 0.1483 - val_accuracy: 0.9826\n",
      "Epoch 9/15\n",
      "228/228 [==============================] - 293s 1s/step - loss: 0.0182 - accuracy: 0.9945 - val_loss: 0.1432 - val_accuracy: 0.9831\n",
      "Epoch 10/15\n",
      "228/228 [==============================] - 310s 1s/step - loss: 0.0168 - accuracy: 0.9948 - val_loss: 0.1493 - val_accuracy: 0.9832\n",
      "Epoch 11/15\n",
      "228/228 [==============================] - 283s 1s/step - loss: 0.0175 - accuracy: 0.9944 - val_loss: 0.1516 - val_accuracy: 0.9829\n",
      "Epoch 12/15\n",
      "228/228 [==============================] - 281s 1s/step - loss: 0.0178 - accuracy: 0.9946 - val_loss: 0.1479 - val_accuracy: 0.9829\n",
      "Epoch 13/15\n",
      "228/228 [==============================] - 286s 1s/step - loss: 0.0168 - accuracy: 0.9947 - val_loss: 0.1499 - val_accuracy: 0.9824\n",
      "Epoch 14/15\n",
      "228/228 [==============================] - 282s 1s/step - loss: 0.0158 - accuracy: 0.9948 - val_loss: 0.1531 - val_accuracy: 0.9825\n",
      "Epoch 15/15\n",
      "228/228 [==============================] - 280s 1s/step - loss: 0.0158 - accuracy: 0.9948 - val_loss: 0.1528 - val_accuracy: 0.9826\n"
     ]
    },
    {
     "data": {
      "text/plain": [
       "<tf_keras.src.callbacks.History at 0x18549d5f380>"
      ]
     },
     "execution_count": 14,
     "metadata": {},
     "output_type": "execute_result"
    }
   ],
   "source": [
    "model.fit(train_tf_dataset, validation_data=test_tf_dataset, epochs=15)"
   ]
  },
  {
   "cell_type": "code",
   "execution_count": 15,
   "id": "7edc1b8d-d914-4492-8abc-333e6e464313",
   "metadata": {},
   "outputs": [
    {
     "data": {
      "text/plain": [
       "('T5-Generation-Description-Tokenazier-Two\\\\tokenizer_config.json',\n",
       " 'T5-Generation-Description-Tokenazier-Two\\\\special_tokens_map.json',\n",
       " 'T5-Generation-Description-Tokenazier-Two\\\\spiece.model',\n",
       " 'T5-Generation-Description-Tokenazier-Two\\\\added_tokens.json')"
      ]
     },
     "execution_count": 15,
     "metadata": {},
     "output_type": "execute_result"
    }
   ],
   "source": [
    "model.save_pretrained('T5-Generation-Description-Model-Two')\n",
    "tokenizer.save_pretrained('T5-Generation-Description-Tokenazier-Two')"
   ]
  },
  {
   "cell_type": "code",
   "execution_count": 22,
   "id": "bb48eea4-42a7-4aa4-a8f3-2f8ca6af4ba6",
   "metadata": {},
   "outputs": [
    {
     "name": "stdout",
     "output_type": "stream",
     "text": [
      "Average BLEU Score: 0.7099501850424708\n"
     ]
    }
   ],
   "source": [
    "bleu_score = calculate_bleu(predictions, references)\n",
    "print(f\"Average BLEU Score: {bleu_score}\")"
   ]
  },
  {
   "cell_type": "code",
   "execution_count": 27,
   "id": "e9bb972c-69de-4561-af92-a7e91680f3b9",
   "metadata": {},
   "outputs": [
    {
     "name": "stdout",
     "output_type": "stream",
     "text": [
      "ROUGE-1: 0.8146\n",
      "ROUGE-2: 0.7550\n",
      "ROUGE-L: 0.8111\n"
     ]
    }
   ],
   "source": [
    "rouge_scores = calculate_rouge(predictions, references)\n",
    "print(f\"ROUGE-1: {rouge_scores['rouge1']:.4f}\")\n",
    "print(f\"ROUGE-2: {rouge_scores['rouge2']:.4f}\")\n",
    "print(f\"ROUGE-L: {rouge_scores['rougeL']:.4f}\")"
   ]
  },
  {
   "cell_type": "code",
   "execution_count": null,
   "id": "f5025b64-39ac-46d7-abf5-62824b47ddc6",
   "metadata": {},
   "outputs": [],
   "source": []
  }
 ],
 "metadata": {
  "kernelspec": {
   "display_name": "Python 3 (ipykernel)",
   "language": "python",
   "name": "python3"
  },
  "language_info": {
   "codemirror_mode": {
    "name": "ipython",
    "version": 3
   },
   "file_extension": ".py",
   "mimetype": "text/x-python",
   "name": "python",
   "nbconvert_exporter": "python",
   "pygments_lexer": "ipython3",
   "version": "3.12.4"
  }
 },
 "nbformat": 4,
 "nbformat_minor": 5
}
