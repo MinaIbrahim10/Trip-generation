{
 "cells": [
  {
   "cell_type": "code",
   "execution_count": 1,
   "id": "e7a40c0b-7f46-42c8-9a2e-005542bc3b44",
   "metadata": {},
   "outputs": [
    {
     "name": "stderr",
     "output_type": "stream",
     "text": [
      "2025-02-15 20:33:51.233973: I tensorflow/core/util/port.cc:153] oneDNN custom operations are on. You may see slightly different numerical results due to floating-point round-off errors from different computation orders. To turn them off, set the environment variable `TF_ENABLE_ONEDNN_OPTS=0`.\n",
      "2025-02-15 20:33:51.254405: E external/local_xla/xla/stream_executor/cuda/cuda_fft.cc:485] Unable to register cuFFT factory: Attempting to register factory for plugin cuFFT when one has already been registered\n",
      "2025-02-15 20:33:51.270626: E external/local_xla/xla/stream_executor/cuda/cuda_dnn.cc:8454] Unable to register cuDNN factory: Attempting to register factory for plugin cuDNN when one has already been registered\n",
      "2025-02-15 20:33:51.275182: E external/local_xla/xla/stream_executor/cuda/cuda_blas.cc:1452] Unable to register cuBLAS factory: Attempting to register factory for plugin cuBLAS when one has already been registered\n",
      "2025-02-15 20:33:51.292116: I tensorflow/core/platform/cpu_feature_guard.cc:210] This TensorFlow binary is optimized to use available CPU instructions in performance-critical operations.\n",
      "To enable the following instructions: AVX2 AVX512F AVX512_VNNI AVX512_BF16 FMA, in other operations, rebuild TensorFlow with the appropriate compiler flags.\n",
      "2025-02-15 20:33:51.874938: W tensorflow/compiler/tf2tensorrt/utils/py_utils.cc:38] TF-TRT Warning: Could not find TensorRT\n"
     ]
    }
   ],
   "source": [
    "from sklearn.model_selection import train_test_split\n",
    "import tensorflow as tf\n",
    "from transformers import TFGPT2LMHeadModel,GPT2Tokenizer\n",
    "from datasets import Dataset\n",
    "import pandas as pd\n"
   ]
  },
  {
   "cell_type": "code",
   "execution_count": 2,
   "id": "bb5fb59b-d14c-4b24-9f32-e28e10950588",
   "metadata": {},
   "outputs": [
    {
     "name": "stderr",
     "output_type": "stream",
     "text": [
      "WARNING: All log messages before absl::InitializeLog() is called are written to STDERR\n",
      "I0000 00:00:1739640834.176165    9655 cuda_executor.cc:1001] could not open file to read NUMA node: /sys/bus/pci/devices/0000:01:00.0/numa_node\n",
      "Your kernel may have been built without NUMA support.\n",
      "I0000 00:00:1739640834.177641    9655 cuda_executor.cc:1001] could not open file to read NUMA node: /sys/bus/pci/devices/0000:01:00.0/numa_node\n",
      "Your kernel may have been built without NUMA support.\n",
      "I0000 00:00:1739640834.177695    9655 cuda_executor.cc:1001] could not open file to read NUMA node: /sys/bus/pci/devices/0000:01:00.0/numa_node\n",
      "Your kernel may have been built without NUMA support.\n"
     ]
    }
   ],
   "source": [
    "physical_devices = tf.config.experimental.list_physical_devices('GPU')\n",
    "tf.config.experimental.set_memory_growth(physical_devices[0], True)"
   ]
  },
  {
   "cell_type": "code",
   "execution_count": 3,
   "id": "9d901037-4055-4b83-bd2f-d442fb869dd5",
   "metadata": {},
   "outputs": [],
   "source": [
    "from tensorflow.keras import mixed_precision\n",
    "policy = mixed_precision.Policy('mixed_float16')\n",
    "mixed_precision.set_global_policy(policy)\n"
   ]
  },
  {
   "cell_type": "code",
   "execution_count": 4,
   "id": "cf1627e2-689f-4140-a591-a39f1d68ed79",
   "metadata": {},
   "outputs": [],
   "source": [
    "df=pd.read_csv('trip-data.csv')"
   ]
  },
  {
   "cell_type": "code",
   "execution_count": 5,
   "id": "95cdf9bf-a7fb-4308-a64a-560db698be4b",
   "metadata": {},
   "outputs": [
    {
     "data": {
      "text/html": [
       "<div>\n",
       "<style scoped>\n",
       "    .dataframe tbody tr th:only-of-type {\n",
       "        vertical-align: middle;\n",
       "    }\n",
       "\n",
       "    .dataframe tbody tr th {\n",
       "        vertical-align: top;\n",
       "    }\n",
       "\n",
       "    .dataframe thead th {\n",
       "        text-align: right;\n",
       "    }\n",
       "</style>\n",
       "<table border=\"1\" class=\"dataframe\">\n",
       "  <thead>\n",
       "    <tr style=\"text-align: right;\">\n",
       "      <th></th>\n",
       "      <th>id</th>\n",
       "      <th>Activity</th>\n",
       "      <th>location</th>\n",
       "      <th>Description</th>\n",
       "      <th>Type</th>\n",
       "      <th>Price</th>\n",
       "      <th>openig-hours</th>\n",
       "      <th>holiday</th>\n",
       "      <th>act_time</th>\n",
       "      <th>time</th>\n",
       "    </tr>\n",
       "  </thead>\n",
       "  <tbody>\n",
       "    <tr>\n",
       "      <th>0</th>\n",
       "      <td>0</td>\n",
       "      <td>Sharjah Archaeology Museum</td>\n",
       "      <td>Sharjah City</td>\n",
       "      <td>Ancient treasures and artifacts from UAE's pas...</td>\n",
       "      <td>museum</td>\n",
       "      <td>low</td>\n",
       "      <td>Saturday to Thursday:8:00 20:00 Friday:16:00 2...</td>\n",
       "      <td>0</td>\n",
       "      <td>8:00 20:00</td>\n",
       "      <td>['morning','afternoon','evening']</td>\n",
       "    </tr>\n",
       "    <tr>\n",
       "      <th>1</th>\n",
       "      <td>1</td>\n",
       "      <td>Bait Al Naboodah Museum</td>\n",
       "      <td>Sharjah City</td>\n",
       "      <td>Historic Gulf home with coral walls, intricate...</td>\n",
       "      <td>museum</td>\n",
       "      <td>low</td>\n",
       "      <td>Saturday to Thursday:8:00 20:00 Friday:16:00 2...</td>\n",
       "      <td>0</td>\n",
       "      <td>8:00 20:00</td>\n",
       "      <td>['morning','afternoon','evening']</td>\n",
       "    </tr>\n",
       "    <tr>\n",
       "      <th>2</th>\n",
       "      <td>2</td>\n",
       "      <td>Bait Khalid Bin Ibrahim</td>\n",
       "      <td>Sharjah City</td>\n",
       "      <td>Historic house turned boutique hotel offers au...</td>\n",
       "      <td>old_hotel</td>\n",
       "      <td>low</td>\n",
       "      <td>Saturday to Thursday: 8:00 20:00 Friday: 16:00...</td>\n",
       "      <td>0</td>\n",
       "      <td>8:00 20:00</td>\n",
       "      <td>['morning','afternoon','evening']</td>\n",
       "    </tr>\n",
       "    <tr>\n",
       "      <th>3</th>\n",
       "      <td>3</td>\n",
       "      <td>Sharjah Calligraphy Museumc</td>\n",
       "      <td>Sharjah City</td>\n",
       "      <td>Arab world's only museum dedicated to calligra...</td>\n",
       "      <td>museum</td>\n",
       "      <td>low</td>\n",
       "      <td>Saturday to Thursday: 8:00 20:00 Friday: 16:00...</td>\n",
       "      <td>0</td>\n",
       "      <td>8:00 20:00</td>\n",
       "      <td>['morning','afternoon','evening']</td>\n",
       "    </tr>\n",
       "    <tr>\n",
       "      <th>4</th>\n",
       "      <td>4</td>\n",
       "      <td>Cultural Square</td>\n",
       "      <td>Sharjah City</td>\n",
       "      <td>Cultural Square: 14-metre high Quran sculpture...</td>\n",
       "      <td>museum</td>\n",
       "      <td>low</td>\n",
       "      <td>friday to friday:12:00 00:00</td>\n",
       "      <td>0</td>\n",
       "      <td>12:00 00:00</td>\n",
       "      <td>['morning','afternoon','evening','night']</td>\n",
       "    </tr>\n",
       "    <tr>\n",
       "      <th>...</th>\n",
       "      <td>...</td>\n",
       "      <td>...</td>\n",
       "      <td>...</td>\n",
       "      <td>...</td>\n",
       "      <td>...</td>\n",
       "      <td>...</td>\n",
       "      <td>...</td>\n",
       "      <td>...</td>\n",
       "      <td>...</td>\n",
       "      <td>...</td>\n",
       "    </tr>\n",
       "    <tr>\n",
       "      <th>1132</th>\n",
       "      <td>1182</td>\n",
       "      <td>Kalba Beach Corniche</td>\n",
       "      <td>East Coast</td>\n",
       "      <td>Explore the Kalba Beach Corniche in East Coast...</td>\n",
       "      <td>trendy</td>\n",
       "      <td>high</td>\n",
       "      <td>Monday to Friday: 9:00 AM - 6:00 PM</td>\n",
       "      <td>0</td>\n",
       "      <td>9:00 AM - 6:00 PM</td>\n",
       "      <td>['morning', 'afternoon', 'evening']</td>\n",
       "    </tr>\n",
       "    <tr>\n",
       "      <th>1133</th>\n",
       "      <td>1183</td>\n",
       "      <td>Bait Al Naboodah Museum</td>\n",
       "      <td>Sharjah City</td>\n",
       "      <td>Explore the Bait Al Naboodah Museum in Sharjah...</td>\n",
       "      <td>precious</td>\n",
       "      <td>medium</td>\n",
       "      <td>Monday to Friday: 9:00 AM - 6:00 PM</td>\n",
       "      <td>0</td>\n",
       "      <td>9:00 AM - 6:00 PM</td>\n",
       "      <td>['morning', 'afternoon', 'evening']</td>\n",
       "    </tr>\n",
       "    <tr>\n",
       "      <th>1134</th>\n",
       "      <td>1184</td>\n",
       "      <td>Najd Al Maqsar Village</td>\n",
       "      <td>Central Region</td>\n",
       "      <td>Explore the Najd Al Maqsar Village in Central ...</td>\n",
       "      <td>lively</td>\n",
       "      <td>medium</td>\n",
       "      <td>Monday to Friday: 9:00 AM - 6:00 PM</td>\n",
       "      <td>0</td>\n",
       "      <td>9:00 AM - 6:00 PM</td>\n",
       "      <td>['morning', 'afternoon', 'evening']</td>\n",
       "    </tr>\n",
       "    <tr>\n",
       "      <th>1135</th>\n",
       "      <td>1185</td>\n",
       "      <td>Kalba Birds of Prey Centre</td>\n",
       "      <td>East Coast</td>\n",
       "      <td>Explore the Kalba Birds of Prey Centre in East...</td>\n",
       "      <td>bustling</td>\n",
       "      <td>medium</td>\n",
       "      <td>Monday to Friday: 9:00 AM - 6:00 PM</td>\n",
       "      <td>0</td>\n",
       "      <td>9:00 AM - 6:00 PM</td>\n",
       "      <td>['morning', 'afternoon', 'evening']</td>\n",
       "    </tr>\n",
       "    <tr>\n",
       "      <th>1136</th>\n",
       "      <td>1186</td>\n",
       "      <td>The Royal Grill</td>\n",
       "      <td>Sharjah City</td>\n",
       "      <td>Explore the The Royal Grill in Sharjah City. A...</td>\n",
       "      <td>historic</td>\n",
       "      <td>medium</td>\n",
       "      <td>Monday to Friday: 9:00 AM - 6:00 PM</td>\n",
       "      <td>0</td>\n",
       "      <td>9:00 AM - 6:00 PM</td>\n",
       "      <td>['morning', 'afternoon', 'evening']</td>\n",
       "    </tr>\n",
       "  </tbody>\n",
       "</table>\n",
       "<p>1137 rows × 10 columns</p>\n",
       "</div>"
      ],
      "text/plain": [
       "        id                     Activity        location  \\\n",
       "0        0   Sharjah Archaeology Museum    Sharjah City   \n",
       "1        1      Bait Al Naboodah Museum    Sharjah City   \n",
       "2        2      Bait Khalid Bin Ibrahim    Sharjah City   \n",
       "3        3  Sharjah Calligraphy Museumc    Sharjah City   \n",
       "4        4              Cultural Square    Sharjah City   \n",
       "...    ...                          ...             ...   \n",
       "1132  1182         Kalba Beach Corniche      East Coast   \n",
       "1133  1183      Bait Al Naboodah Museum    Sharjah City   \n",
       "1134  1184       Najd Al Maqsar Village  Central Region   \n",
       "1135  1185   Kalba Birds of Prey Centre      East Coast   \n",
       "1136  1186              The Royal Grill    Sharjah City   \n",
       "\n",
       "                                            Description       Type   Price  \\\n",
       "0     Ancient treasures and artifacts from UAE's pas...     museum     low   \n",
       "1     Historic Gulf home with coral walls, intricate...     museum     low   \n",
       "2     Historic house turned boutique hotel offers au...  old_hotel     low   \n",
       "3     Arab world's only museum dedicated to calligra...     museum     low   \n",
       "4     Cultural Square: 14-metre high Quran sculpture...     museum     low   \n",
       "...                                                 ...        ...     ...   \n",
       "1132  Explore the Kalba Beach Corniche in East Coast...     trendy    high   \n",
       "1133  Explore the Bait Al Naboodah Museum in Sharjah...   precious  medium   \n",
       "1134  Explore the Najd Al Maqsar Village in Central ...     lively  medium   \n",
       "1135  Explore the Kalba Birds of Prey Centre in East...   bustling  medium   \n",
       "1136  Explore the The Royal Grill in Sharjah City. A...   historic  medium   \n",
       "\n",
       "                                           openig-hours holiday  \\\n",
       "0     Saturday to Thursday:8:00 20:00 Friday:16:00 2...       0   \n",
       "1     Saturday to Thursday:8:00 20:00 Friday:16:00 2...       0   \n",
       "2     Saturday to Thursday: 8:00 20:00 Friday: 16:00...       0   \n",
       "3     Saturday to Thursday: 8:00 20:00 Friday: 16:00...       0   \n",
       "4                         friday to friday:12:00 00:00        0   \n",
       "...                                                 ...     ...   \n",
       "1132                Monday to Friday: 9:00 AM - 6:00 PM       0   \n",
       "1133                Monday to Friday: 9:00 AM - 6:00 PM       0   \n",
       "1134                Monday to Friday: 9:00 AM - 6:00 PM       0   \n",
       "1135                Monday to Friday: 9:00 AM - 6:00 PM       0   \n",
       "1136                Monday to Friday: 9:00 AM - 6:00 PM       0   \n",
       "\n",
       "               act_time                                       time  \n",
       "0            8:00 20:00          ['morning','afternoon','evening']  \n",
       "1            8:00 20:00          ['morning','afternoon','evening']  \n",
       "2            8:00 20:00          ['morning','afternoon','evening']  \n",
       "3            8:00 20:00          ['morning','afternoon','evening']  \n",
       "4           12:00 00:00  ['morning','afternoon','evening','night']  \n",
       "...                 ...                                        ...  \n",
       "1132  9:00 AM - 6:00 PM        ['morning', 'afternoon', 'evening']  \n",
       "1133  9:00 AM - 6:00 PM        ['morning', 'afternoon', 'evening']  \n",
       "1134  9:00 AM - 6:00 PM        ['morning', 'afternoon', 'evening']  \n",
       "1135  9:00 AM - 6:00 PM        ['morning', 'afternoon', 'evening']  \n",
       "1136  9:00 AM - 6:00 PM        ['morning', 'afternoon', 'evening']  \n",
       "\n",
       "[1137 rows x 10 columns]"
      ]
     },
     "execution_count": 5,
     "metadata": {},
     "output_type": "execute_result"
    }
   ],
   "source": [
    "df"
   ]
  },
  {
   "cell_type": "code",
   "execution_count": 6,
   "id": "d98edf1d-93d2-4c5c-a4d4-8e9411d317fc",
   "metadata": {},
   "outputs": [],
   "source": [
    "df['input_text'] = df['location']+\"\"+df['Type']\n",
    "df['target_text'] = df['Description']"
   ]
  },
  {
   "cell_type": "code",
   "execution_count": 7,
   "id": "c886333d-788c-4bc6-9c1f-9104d8ad07b7",
   "metadata": {},
   "outputs": [
    {
     "data": {
      "text/plain": [
       "41"
      ]
     },
     "execution_count": 7,
     "metadata": {},
     "output_type": "execute_result"
    }
   ],
   "source": [
    "df['input_text'].str.len().max()"
   ]
  },
  {
   "cell_type": "code",
   "execution_count": 8,
   "id": "2e17258a-9579-4056-9424-f715ab9f5cc8",
   "metadata": {},
   "outputs": [
    {
     "data": {
      "text/plain": [
       "163"
      ]
     },
     "execution_count": 8,
     "metadata": {},
     "output_type": "execute_result"
    }
   ],
   "source": [
    "df['target_text'].str.len().max()"
   ]
  },
  {
   "cell_type": "code",
   "execution_count": 9,
   "id": "720fbd36-5fa4-4db0-863a-0b1f5e21eac1",
   "metadata": {},
   "outputs": [],
   "source": [
    "train_df, test_df = train_test_split(df, test_size=0.2, random_state=42)"
   ]
  },
  {
   "cell_type": "code",
   "execution_count": 10,
   "id": "06030a68-c81f-47a8-9f9f-5ee4d24f4e70",
   "metadata": {},
   "outputs": [],
   "source": [
    "train_dataset = Dataset.from_pandas(train_df[['input_text', 'target_text']])\n",
    "test_dataset = Dataset.from_pandas(test_df[['input_text', 'target_text']])"
   ]
  },
  {
   "cell_type": "code",
   "execution_count": 11,
   "id": "9452222f-3aa9-4b59-b8bb-4e03ef0c6030",
   "metadata": {},
   "outputs": [
    {
     "name": "stderr",
     "output_type": "stream",
     "text": [
      "I0000 00:00:1739640838.908680    9655 cuda_executor.cc:1001] could not open file to read NUMA node: /sys/bus/pci/devices/0000:01:00.0/numa_node\n",
      "Your kernel may have been built without NUMA support.\n",
      "I0000 00:00:1739640838.908767    9655 cuda_executor.cc:1001] could not open file to read NUMA node: /sys/bus/pci/devices/0000:01:00.0/numa_node\n",
      "Your kernel may have been built without NUMA support.\n",
      "I0000 00:00:1739640838.908792    9655 cuda_executor.cc:1001] could not open file to read NUMA node: /sys/bus/pci/devices/0000:01:00.0/numa_node\n",
      "Your kernel may have been built without NUMA support.\n",
      "I0000 00:00:1739640839.125322    9655 cuda_executor.cc:1001] could not open file to read NUMA node: /sys/bus/pci/devices/0000:01:00.0/numa_node\n",
      "Your kernel may have been built without NUMA support.\n",
      "I0000 00:00:1739640839.125386    9655 cuda_executor.cc:1001] could not open file to read NUMA node: /sys/bus/pci/devices/0000:01:00.0/numa_node\n",
      "Your kernel may have been built without NUMA support.\n",
      "2025-02-15 20:33:59.125396: I tensorflow/core/common_runtime/gpu/gpu_device.cc:2112] Could not identify NUMA node of platform GPU id 0, defaulting to 0.  Your kernel may not have been built with NUMA support.\n",
      "I0000 00:00:1739640839.125433    9655 cuda_executor.cc:1001] could not open file to read NUMA node: /sys/bus/pci/devices/0000:01:00.0/numa_node\n",
      "Your kernel may have been built without NUMA support.\n",
      "2025-02-15 20:33:59.125453: I tensorflow/core/common_runtime/gpu/gpu_device.cc:2021] Created device /job:localhost/replica:0/task:0/device:GPU:0 with 5563 MB memory:  -> device: 0, name: NVIDIA GeForce RTX 4060 Laptop GPU, pci bus id: 0000:01:00.0, compute capability: 8.9\n",
      "All PyTorch model weights were used when initializing TFGPT2LMHeadModel.\n",
      "\n",
      "All the weights of TFGPT2LMHeadModel were initialized from the PyTorch model.\n",
      "If your task is similar to the task the model of the checkpoint was trained on, you can already use TFGPT2LMHeadModel for predictions without further training.\n"
     ]
    }
   ],
   "source": [
    "tokenizer = GPT2Tokenizer.from_pretrained(\"gpt2\")\n",
    "model = TFGPT2LMHeadModel.from_pretrained(\"gpt2\")"
   ]
  },
  {
   "cell_type": "code",
   "execution_count": 12,
   "id": "5a0e855e-3f3d-495f-9ad7-74c640bbf1cb",
   "metadata": {},
   "outputs": [],
   "source": [
    "tokenizer.pad_token_id=tokenizer.eos_token_id"
   ]
  },
  {
   "cell_type": "code",
   "execution_count": 13,
   "id": "09be6906-50c3-401c-8936-7f8e4d1515ad",
   "metadata": {},
   "outputs": [
    {
     "data": {
      "application/vnd.jupyter.widget-view+json": {
       "model_id": "152577dcc5654fa6b06475abbfcf75eb",
       "version_major": 2,
       "version_minor": 0
      },
      "text/plain": [
       "Map:   0%|          | 0/909 [00:00<?, ? examples/s]"
      ]
     },
     "metadata": {},
     "output_type": "display_data"
    },
    {
     "data": {
      "application/vnd.jupyter.widget-view+json": {
       "model_id": "e1d3d3899600406f89221f9d3e444709",
       "version_major": 2,
       "version_minor": 0
      },
      "text/plain": [
       "Map:   0%|          | 0/228 [00:00<?, ? examples/s]"
      ]
     },
     "metadata": {},
     "output_type": "display_data"
    }
   ],
   "source": [
    "def tokenize_function(examples):\n",
    "    input_texts = [str(text) if isinstance(text, str) else \"\" for text in examples[\"input_text\"]]\n",
    "    target_texts = [str(text) if isinstance(text, str) else \"\" for text in examples[\"target_text\"]]\n",
    "    model_inputs = tokenizer(input_texts, padding=\"max_length\", truncation=True, max_length=163, return_tensors=\"tf\")\n",
    "    labels = tokenizer(target_texts, padding=\"max_length\", truncation=True, max_length=163, return_tensors=\"tf\")\n",
    "    model_inputs[\"labels\"] = labels[\"input_ids\"]\n",
    "    return model_inputs\n",
    "train_dataset = train_dataset.map(tokenize_function, batched=True)\n",
    "test_dataset = test_dataset.map(tokenize_function, batched=True)\n",
    "def to_tf_dataset(dataset):\n",
    "    return tf.data.Dataset.from_tensor_slices((\n",
    "        {\n",
    "            'input_ids': dataset['input_ids'],\n",
    "            'attention_mask': dataset['attention_mask'],\n",
    "        },\n",
    "        dataset['labels']\n",
    "    ))\n",
    "train_tf_dataset = to_tf_dataset(train_dataset).batch(8)\n",
    "test_tf_dataset = to_tf_dataset(test_dataset).batch(8)"
   ]
  },
  {
   "cell_type": "code",
   "execution_count": 19,
   "id": "abd862b7-240d-4c1e-81e7-619f249006ea",
   "metadata": {},
   "outputs": [],
   "source": [
    "train_tf_dataset = to_tf_dataset(train_dataset).batch(4)\n",
    "test_tf_dataset = to_tf_dataset(test_dataset).batch(4)\n"
   ]
  },
  {
   "cell_type": "code",
   "execution_count": 14,
   "id": "cbe525b1-467c-473a-ae19-a18a9f417e09",
   "metadata": {},
   "outputs": [],
   "source": [
    "from keras.optimizers import Adam\n",
    "model.compile(optimizer='adam', \n",
    "              loss=tf.keras.losses.SparseCategoricalCrossentropy(from_logits=True), \n",
    "              metrics=['accuracy'])"
   ]
  },
  {
   "cell_type": "code",
   "execution_count": 15,
   "id": "66cef10b-f0a2-4603-b88e-9da21503ea26",
   "metadata": {},
   "outputs": [
    {
     "name": "stdout",
     "output_type": "stream",
     "text": [
      "Epoch 1/15\n"
     ]
    },
    {
     "name": "stderr",
     "output_type": "stream",
     "text": [
      "WARNING: All log messages before absl::InitializeLog() is called are written to STDERR\n",
      "I0000 00:00:1739640867.838206    9775 service.cc:146] XLA service 0x7f8529442a40 initialized for platform CUDA (this does not guarantee that XLA will be used). Devices:\n",
      "I0000 00:00:1739640867.838264    9775 service.cc:154]   StreamExecutor device (0): NVIDIA GeForce RTX 4060 Laptop GPU, Compute Capability 8.9\n",
      "2025-02-15 20:34:27.844565: I tensorflow/compiler/mlir/tensorflow/utils/dump_mlir_util.cc:268] disabling MLIR crash reproducer, set env var `MLIR_CRASH_REPRODUCER_DIRECTORY` to enable.\n",
      "2025-02-15 20:34:27.855485: I external/local_xla/xla/stream_executor/cuda/cuda_dnn.cc:531] Loaded cuDNN version 8902\n",
      "I0000 00:00:1739640867.890497    9775 device_compiler.h:188] Compiled cluster using XLA!  This line is logged at most once for the lifetime of the process.\n"
     ]
    },
    {
     "name": "stdout",
     "output_type": "stream",
     "text": [
      "114/114 [==============================] - 39s 230ms/step - loss: 0.9341 - accuracy: 0.8696 - val_loss: 0.5267 - val_accuracy: 0.8940\n",
      "Epoch 2/15\n",
      "114/114 [==============================] - 25s 221ms/step - loss: 0.5023 - accuracy: 0.8947 - val_loss: 0.4690 - val_accuracy: 0.8986\n",
      "Epoch 3/15\n",
      "114/114 [==============================] - 25s 221ms/step - loss: 0.4572 - accuracy: 0.8987 - val_loss: 0.4530 - val_accuracy: 0.9010\n",
      "Epoch 4/15\n",
      "114/114 [==============================] - 25s 221ms/step - loss: 0.4338 - accuracy: 0.9011 - val_loss: 0.4463 - val_accuracy: 0.9016\n",
      "Epoch 5/15\n",
      "114/114 [==============================] - 25s 221ms/step - loss: 0.4140 - accuracy: 0.9027 - val_loss: 0.4482 - val_accuracy: 0.9018\n",
      "Epoch 6/15\n",
      "114/114 [==============================] - 25s 221ms/step - loss: 0.4023 - accuracy: 0.9038 - val_loss: 0.4438 - val_accuracy: 0.9020\n",
      "Epoch 7/15\n",
      "114/114 [==============================] - 25s 221ms/step - loss: 0.3923 - accuracy: 0.9041 - val_loss: 0.4425 - val_accuracy: 0.9028\n",
      "Epoch 8/15\n",
      "114/114 [==============================] - 25s 221ms/step - loss: 0.3840 - accuracy: 0.9056 - val_loss: 0.4518 - val_accuracy: 0.9011\n",
      "Epoch 9/15\n",
      "114/114 [==============================] - 25s 221ms/step - loss: 0.3756 - accuracy: 0.9057 - val_loss: 0.4613 - val_accuracy: 0.9014\n",
      "Epoch 10/15\n",
      "114/114 [==============================] - 25s 221ms/step - loss: 0.3650 - accuracy: 0.9067 - val_loss: 0.4683 - val_accuracy: 0.9018\n",
      "Epoch 11/15\n",
      "114/114 [==============================] - 25s 221ms/step - loss: 0.3533 - accuracy: 0.9069 - val_loss: 0.4721 - val_accuracy: 0.9024\n",
      "Epoch 12/15\n",
      "114/114 [==============================] - 25s 221ms/step - loss: 0.3417 - accuracy: 0.9083 - val_loss: 0.4864 - val_accuracy: 0.9016\n",
      "Epoch 13/15\n",
      "114/114 [==============================] - 25s 221ms/step - loss: 0.3290 - accuracy: 0.9092 - val_loss: 0.4804 - val_accuracy: 0.9018\n",
      "Epoch 14/15\n",
      "114/114 [==============================] - 25s 221ms/step - loss: 0.3209 - accuracy: 0.9095 - val_loss: 0.4949 - val_accuracy: 0.9001\n",
      "Epoch 15/15\n",
      "114/114 [==============================] - 25s 221ms/step - loss: 0.3120 - accuracy: 0.9105 - val_loss: 0.5115 - val_accuracy: 0.9009\n"
     ]
    },
    {
     "data": {
      "text/plain": [
       "<tf_keras.src.callbacks.History at 0x7f85d1576da0>"
      ]
     },
     "execution_count": 15,
     "metadata": {},
     "output_type": "execute_result"
    }
   ],
   "source": [
    "model.fit(train_tf_dataset, validation_data=test_tf_dataset, epochs=15)\n"
   ]
  },
  {
   "cell_type": "code",
   "execution_count": 16,
   "id": "802d0822-3e26-441b-aaa8-8c3f71b5704c",
   "metadata": {},
   "outputs": [
    {
     "name": "stdout",
     "output_type": "stream",
     "text": [
      "Epoch 1/30\n",
      "114/114 [==============================] - 25s 221ms/step - loss: 0.3026 - accuracy: 0.9119 - val_loss: 0.5337 - val_accuracy: 0.8986\n",
      "Epoch 2/30\n",
      "114/114 [==============================] - 25s 221ms/step - loss: 0.2887 - accuracy: 0.9141 - val_loss: 0.5371 - val_accuracy: 0.8980\n",
      "Epoch 3/30\n",
      "114/114 [==============================] - 25s 221ms/step - loss: 0.2815 - accuracy: 0.9160 - val_loss: 0.5471 - val_accuracy: 0.8953\n",
      "Epoch 4/30\n",
      "114/114 [==============================] - 25s 221ms/step - loss: 0.2754 - accuracy: 0.9168 - val_loss: 0.5732 - val_accuracy: 0.8987\n",
      "Epoch 5/30\n",
      "114/114 [==============================] - 25s 222ms/step - loss: 0.2674 - accuracy: 0.9185 - val_loss: 0.5806 - val_accuracy: 0.8967\n",
      "Epoch 6/30\n",
      "114/114 [==============================] - 25s 222ms/step - loss: 0.2629 - accuracy: 0.9195 - val_loss: 0.5794 - val_accuracy: 0.8971\n",
      "Epoch 7/30\n",
      "114/114 [==============================] - 25s 222ms/step - loss: 0.2577 - accuracy: 0.9204 - val_loss: 0.6224 - val_accuracy: 0.8974\n",
      "Epoch 8/30\n",
      "114/114 [==============================] - 25s 221ms/step - loss: 0.2489 - accuracy: 0.9223 - val_loss: 0.6452 - val_accuracy: 0.8955\n",
      "Epoch 9/30\n",
      "114/114 [==============================] - 25s 222ms/step - loss: 0.2447 - accuracy: 0.9235 - val_loss: 0.7073 - val_accuracy: 0.8948\n",
      "Epoch 10/30\n",
      "114/114 [==============================] - 25s 222ms/step - loss: 0.2439 - accuracy: 0.9234 - val_loss: 0.7019 - val_accuracy: 0.8954\n",
      "Epoch 11/30\n",
      "114/114 [==============================] - 25s 222ms/step - loss: 0.2385 - accuracy: 0.9252 - val_loss: 0.7212 - val_accuracy: 0.8946\n",
      "Epoch 12/30\n",
      "114/114 [==============================] - 25s 221ms/step - loss: 0.2328 - accuracy: 0.9263 - val_loss: 0.7068 - val_accuracy: 0.8930\n",
      "Epoch 13/30\n",
      "114/114 [==============================] - 25s 221ms/step - loss: 0.2296 - accuracy: 0.9269 - val_loss: 0.7032 - val_accuracy: 0.8952\n",
      "Epoch 14/30\n",
      "114/114 [==============================] - 25s 221ms/step - loss: 0.2236 - accuracy: 0.9285 - val_loss: 0.7214 - val_accuracy: 0.8938\n",
      "Epoch 15/30\n",
      "114/114 [==============================] - 25s 222ms/step - loss: 0.2207 - accuracy: 0.9294 - val_loss: 0.7110 - val_accuracy: 0.8935\n",
      "Epoch 16/30\n",
      "114/114 [==============================] - 25s 222ms/step - loss: 0.2161 - accuracy: 0.9308 - val_loss: 0.7186 - val_accuracy: 0.8937\n",
      "Epoch 17/30\n",
      "114/114 [==============================] - 25s 222ms/step - loss: 0.2134 - accuracy: 0.9309 - val_loss: 0.7462 - val_accuracy: 0.8933\n",
      "Epoch 18/30\n",
      "114/114 [==============================] - 25s 222ms/step - loss: 0.2113 - accuracy: 0.9313 - val_loss: 0.7623 - val_accuracy: 0.8941\n",
      "Epoch 19/30\n",
      "114/114 [==============================] - 25s 222ms/step - loss: 0.2051 - accuracy: 0.9332 - val_loss: 0.7670 - val_accuracy: 0.8932\n",
      "Epoch 20/30\n",
      "114/114 [==============================] - 25s 223ms/step - loss: 0.1976 - accuracy: 0.9354 - val_loss: 0.7887 - val_accuracy: 0.8928\n",
      "Epoch 21/30\n",
      "114/114 [==============================] - 25s 221ms/step - loss: 0.1998 - accuracy: 0.9346 - val_loss: 0.7689 - val_accuracy: 0.8927\n",
      "Epoch 22/30\n",
      "114/114 [==============================] - 25s 223ms/step - loss: 0.2010 - accuracy: 0.9349 - val_loss: 0.8109 - val_accuracy: 0.8941\n",
      "Epoch 23/30\n",
      "114/114 [==============================] - 25s 223ms/step - loss: 0.1984 - accuracy: 0.9355 - val_loss: 0.7740 - val_accuracy: 0.8938\n",
      "Epoch 24/30\n",
      "114/114 [==============================] - 25s 221ms/step - loss: 0.1901 - accuracy: 0.9374 - val_loss: 0.8072 - val_accuracy: 0.8938\n",
      "Epoch 25/30\n",
      "114/114 [==============================] - 25s 221ms/step - loss: 0.1897 - accuracy: 0.9383 - val_loss: 0.7779 - val_accuracy: 0.8952\n",
      "Epoch 26/30\n",
      "114/114 [==============================] - 25s 221ms/step - loss: 0.1889 - accuracy: 0.9377 - val_loss: 0.8380 - val_accuracy: 0.8931\n",
      "Epoch 27/30\n",
      "114/114 [==============================] - 25s 221ms/step - loss: 0.1906 - accuracy: 0.9376 - val_loss: 0.8280 - val_accuracy: 0.8939\n",
      "Epoch 28/30\n",
      "114/114 [==============================] - 25s 222ms/step - loss: 0.1897 - accuracy: 0.9384 - val_loss: 0.8272 - val_accuracy: 0.8950\n",
      "Epoch 29/30\n",
      "114/114 [==============================] - 25s 222ms/step - loss: 0.1824 - accuracy: 0.9402 - val_loss: 0.8429 - val_accuracy: 0.8951\n",
      "Epoch 30/30\n",
      "114/114 [==============================] - 25s 222ms/step - loss: 0.1821 - accuracy: 0.9404 - val_loss: 0.8792 - val_accuracy: 0.8940\n"
     ]
    },
    {
     "data": {
      "text/plain": [
       "<tf_keras.src.callbacks.History at 0x7f85d15087f0>"
      ]
     },
     "execution_count": 16,
     "metadata": {},
     "output_type": "execute_result"
    }
   ],
   "source": [
    "model.fit(train_tf_dataset, validation_data=test_tf_dataset, epochs=30)\n"
   ]
  },
  {
   "cell_type": "code",
   "execution_count": null,
   "id": "ee48bcc2-13e6-4812-a81b-34973b74ae8f",
   "metadata": {},
   "outputs": [],
   "source": []
  }
 ],
 "metadata": {
  "kernelspec": {
   "display_name": "Python 3 (ipykernel)",
   "language": "python",
   "name": "python3"
  },
  "language_info": {
   "codemirror_mode": {
    "name": "ipython",
    "version": 3
   },
   "file_extension": ".py",
   "mimetype": "text/x-python",
   "name": "python",
   "nbconvert_exporter": "python",
   "pygments_lexer": "ipython3",
   "version": "3.10.12"
  }
 },
 "nbformat": 4,
 "nbformat_minor": 5
}
