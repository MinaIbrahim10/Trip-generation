{
 "cells": [
  {
   "cell_type": "code",
   "execution_count": 1,
   "id": "e7a40c0b-7f46-42c8-9a2e-005542bc3b44",
   "metadata": {},
   "outputs": [
    {
     "name": "stderr",
     "output_type": "stream",
     "text": [
      "2025-02-15 16:14:51.566546: I tensorflow/core/util/port.cc:153] oneDNN custom operations are on. You may see slightly different numerical results due to floating-point round-off errors from different computation orders. To turn them off, set the environment variable `TF_ENABLE_ONEDNN_OPTS=0`.\n",
      "2025-02-15 16:14:51.588385: E external/local_xla/xla/stream_executor/cuda/cuda_fft.cc:485] Unable to register cuFFT factory: Attempting to register factory for plugin cuFFT when one has already been registered\n",
      "2025-02-15 16:14:51.600184: E external/local_xla/xla/stream_executor/cuda/cuda_dnn.cc:8454] Unable to register cuDNN factory: Attempting to register factory for plugin cuDNN when one has already been registered\n",
      "2025-02-15 16:14:51.603170: E external/local_xla/xla/stream_executor/cuda/cuda_blas.cc:1452] Unable to register cuBLAS factory: Attempting to register factory for plugin cuBLAS when one has already been registered\n",
      "2025-02-15 16:14:51.617507: I tensorflow/core/platform/cpu_feature_guard.cc:210] This TensorFlow binary is optimized to use available CPU instructions in performance-critical operations.\n",
      "To enable the following instructions: AVX2 AVX512F AVX512_VNNI AVX512_BF16 FMA, in other operations, rebuild TensorFlow with the appropriate compiler flags.\n",
      "2025-02-15 16:14:52.179414: W tensorflow/compiler/tf2tensorrt/utils/py_utils.cc:38] TF-TRT Warning: Could not find TensorRT\n"
     ]
    }
   ],
   "source": [
    "from sklearn.model_selection import train_test_split\n",
    "import tensorflow as tf\n",
    "from transformers import TFAutoModelForSeq2SeqLM,T5Tokenizer\n",
    "from datasets import Dataset\n",
    "import pandas as pd\n"
   ]
  },
  {
   "cell_type": "code",
   "execution_count": 2,
   "id": "bb5fb59b-d14c-4b24-9f32-e28e10950588",
   "metadata": {},
   "outputs": [
    {
     "name": "stderr",
     "output_type": "stream",
     "text": [
      "WARNING: All log messages before absl::InitializeLog() is called are written to STDERR\n",
      "I0000 00:00:1739625294.206137   13383 cuda_executor.cc:1001] could not open file to read NUMA node: /sys/bus/pci/devices/0000:01:00.0/numa_node\n",
      "Your kernel may have been built without NUMA support.\n",
      "I0000 00:00:1739625294.207879   13383 cuda_executor.cc:1001] could not open file to read NUMA node: /sys/bus/pci/devices/0000:01:00.0/numa_node\n",
      "Your kernel may have been built without NUMA support.\n",
      "I0000 00:00:1739625294.207910   13383 cuda_executor.cc:1001] could not open file to read NUMA node: /sys/bus/pci/devices/0000:01:00.0/numa_node\n",
      "Your kernel may have been built without NUMA support.\n"
     ]
    }
   ],
   "source": [
    "physical_devices = tf.config.experimental.list_physical_devices('GPU')\n",
    "tf.config.experimental.set_memory_growth(physical_devices[0], True)"
   ]
  },
  {
   "cell_type": "code",
   "execution_count": 3,
   "id": "9d901037-4055-4b83-bd2f-d442fb869dd5",
   "metadata": {},
   "outputs": [],
   "source": [
    "from tensorflow.keras import mixed_precision\n",
    "policy = mixed_precision.Policy('mixed_float16')\n",
    "mixed_precision.set_global_policy(policy)\n"
   ]
  },
  {
   "cell_type": "code",
   "execution_count": 4,
   "id": "cf1627e2-689f-4140-a591-a39f1d68ed79",
   "metadata": {},
   "outputs": [],
   "source": [
    "df=pd.read_csv('trip-data.csv')"
   ]
  },
  {
   "cell_type": "code",
   "execution_count": 5,
   "id": "95cdf9bf-a7fb-4308-a64a-560db698be4b",
   "metadata": {},
   "outputs": [
    {
     "data": {
      "text/html": [
       "<div>\n",
       "<style scoped>\n",
       "    .dataframe tbody tr th:only-of-type {\n",
       "        vertical-align: middle;\n",
       "    }\n",
       "\n",
       "    .dataframe tbody tr th {\n",
       "        vertical-align: top;\n",
       "    }\n",
       "\n",
       "    .dataframe thead th {\n",
       "        text-align: right;\n",
       "    }\n",
       "</style>\n",
       "<table border=\"1\" class=\"dataframe\">\n",
       "  <thead>\n",
       "    <tr style=\"text-align: right;\">\n",
       "      <th></th>\n",
       "      <th>id</th>\n",
       "      <th>Activity</th>\n",
       "      <th>location</th>\n",
       "      <th>Description</th>\n",
       "      <th>Type</th>\n",
       "      <th>Price</th>\n",
       "      <th>openig-hours</th>\n",
       "      <th>holiday</th>\n",
       "      <th>act_time</th>\n",
       "      <th>time</th>\n",
       "    </tr>\n",
       "  </thead>\n",
       "  <tbody>\n",
       "    <tr>\n",
       "      <th>0</th>\n",
       "      <td>0</td>\n",
       "      <td>Sharjah Archaeology Museum</td>\n",
       "      <td>Sharjah City</td>\n",
       "      <td>Ancient treasures and artifacts from UAE's pas...</td>\n",
       "      <td>museum</td>\n",
       "      <td>low</td>\n",
       "      <td>Saturday to Thursday:8:00 20:00 Friday:16:00 2...</td>\n",
       "      <td>0</td>\n",
       "      <td>8:00 20:00</td>\n",
       "      <td>['morning','afternoon','evening']</td>\n",
       "    </tr>\n",
       "    <tr>\n",
       "      <th>1</th>\n",
       "      <td>1</td>\n",
       "      <td>Bait Al Naboodah Museum</td>\n",
       "      <td>Sharjah City</td>\n",
       "      <td>Historic Gulf home with coral walls, intricate...</td>\n",
       "      <td>museum</td>\n",
       "      <td>low</td>\n",
       "      <td>Saturday to Thursday:8:00 20:00 Friday:16:00 2...</td>\n",
       "      <td>0</td>\n",
       "      <td>8:00 20:00</td>\n",
       "      <td>['morning','afternoon','evening']</td>\n",
       "    </tr>\n",
       "    <tr>\n",
       "      <th>2</th>\n",
       "      <td>2</td>\n",
       "      <td>Bait Khalid Bin Ibrahim</td>\n",
       "      <td>Sharjah City</td>\n",
       "      <td>Historic house turned boutique hotel offers au...</td>\n",
       "      <td>old_hotel</td>\n",
       "      <td>low</td>\n",
       "      <td>Saturday to Thursday: 8:00 20:00 Friday: 16:00...</td>\n",
       "      <td>0</td>\n",
       "      <td>8:00 20:00</td>\n",
       "      <td>['morning','afternoon','evening']</td>\n",
       "    </tr>\n",
       "    <tr>\n",
       "      <th>3</th>\n",
       "      <td>3</td>\n",
       "      <td>Sharjah Calligraphy Museumc</td>\n",
       "      <td>Sharjah City</td>\n",
       "      <td>Arab world's only museum dedicated to calligra...</td>\n",
       "      <td>museum</td>\n",
       "      <td>low</td>\n",
       "      <td>Saturday to Thursday: 8:00 20:00 Friday: 16:00...</td>\n",
       "      <td>0</td>\n",
       "      <td>8:00 20:00</td>\n",
       "      <td>['morning','afternoon','evening']</td>\n",
       "    </tr>\n",
       "    <tr>\n",
       "      <th>4</th>\n",
       "      <td>4</td>\n",
       "      <td>Cultural Square</td>\n",
       "      <td>Sharjah City</td>\n",
       "      <td>Cultural Square: 14-metre high Quran sculpture...</td>\n",
       "      <td>museum</td>\n",
       "      <td>low</td>\n",
       "      <td>friday to friday:12:00 00:00</td>\n",
       "      <td>0</td>\n",
       "      <td>12:00 00:00</td>\n",
       "      <td>['morning','afternoon','evening','night']</td>\n",
       "    </tr>\n",
       "    <tr>\n",
       "      <th>...</th>\n",
       "      <td>...</td>\n",
       "      <td>...</td>\n",
       "      <td>...</td>\n",
       "      <td>...</td>\n",
       "      <td>...</td>\n",
       "      <td>...</td>\n",
       "      <td>...</td>\n",
       "      <td>...</td>\n",
       "      <td>...</td>\n",
       "      <td>...</td>\n",
       "    </tr>\n",
       "    <tr>\n",
       "      <th>1132</th>\n",
       "      <td>1182</td>\n",
       "      <td>Kalba Beach Corniche</td>\n",
       "      <td>East Coast</td>\n",
       "      <td>Explore the Kalba Beach Corniche in East Coast...</td>\n",
       "      <td>trendy</td>\n",
       "      <td>high</td>\n",
       "      <td>Monday to Friday: 9:00 AM - 6:00 PM</td>\n",
       "      <td>0</td>\n",
       "      <td>9:00 AM - 6:00 PM</td>\n",
       "      <td>['morning', 'afternoon', 'evening']</td>\n",
       "    </tr>\n",
       "    <tr>\n",
       "      <th>1133</th>\n",
       "      <td>1183</td>\n",
       "      <td>Bait Al Naboodah Museum</td>\n",
       "      <td>Sharjah City</td>\n",
       "      <td>Explore the Bait Al Naboodah Museum in Sharjah...</td>\n",
       "      <td>precious</td>\n",
       "      <td>medium</td>\n",
       "      <td>Monday to Friday: 9:00 AM - 6:00 PM</td>\n",
       "      <td>0</td>\n",
       "      <td>9:00 AM - 6:00 PM</td>\n",
       "      <td>['morning', 'afternoon', 'evening']</td>\n",
       "    </tr>\n",
       "    <tr>\n",
       "      <th>1134</th>\n",
       "      <td>1184</td>\n",
       "      <td>Najd Al Maqsar Village</td>\n",
       "      <td>Central Region</td>\n",
       "      <td>Explore the Najd Al Maqsar Village in Central ...</td>\n",
       "      <td>lively</td>\n",
       "      <td>medium</td>\n",
       "      <td>Monday to Friday: 9:00 AM - 6:00 PM</td>\n",
       "      <td>0</td>\n",
       "      <td>9:00 AM - 6:00 PM</td>\n",
       "      <td>['morning', 'afternoon', 'evening']</td>\n",
       "    </tr>\n",
       "    <tr>\n",
       "      <th>1135</th>\n",
       "      <td>1185</td>\n",
       "      <td>Kalba Birds of Prey Centre</td>\n",
       "      <td>East Coast</td>\n",
       "      <td>Explore the Kalba Birds of Prey Centre in East...</td>\n",
       "      <td>bustling</td>\n",
       "      <td>medium</td>\n",
       "      <td>Monday to Friday: 9:00 AM - 6:00 PM</td>\n",
       "      <td>0</td>\n",
       "      <td>9:00 AM - 6:00 PM</td>\n",
       "      <td>['morning', 'afternoon', 'evening']</td>\n",
       "    </tr>\n",
       "    <tr>\n",
       "      <th>1136</th>\n",
       "      <td>1186</td>\n",
       "      <td>The Royal Grill</td>\n",
       "      <td>Sharjah City</td>\n",
       "      <td>Explore the The Royal Grill in Sharjah City. A...</td>\n",
       "      <td>historic</td>\n",
       "      <td>medium</td>\n",
       "      <td>Monday to Friday: 9:00 AM - 6:00 PM</td>\n",
       "      <td>0</td>\n",
       "      <td>9:00 AM - 6:00 PM</td>\n",
       "      <td>['morning', 'afternoon', 'evening']</td>\n",
       "    </tr>\n",
       "  </tbody>\n",
       "</table>\n",
       "<p>1137 rows × 10 columns</p>\n",
       "</div>"
      ],
      "text/plain": [
       "        id                     Activity        location  \\\n",
       "0        0   Sharjah Archaeology Museum    Sharjah City   \n",
       "1        1      Bait Al Naboodah Museum    Sharjah City   \n",
       "2        2      Bait Khalid Bin Ibrahim    Sharjah City   \n",
       "3        3  Sharjah Calligraphy Museumc    Sharjah City   \n",
       "4        4              Cultural Square    Sharjah City   \n",
       "...    ...                          ...             ...   \n",
       "1132  1182         Kalba Beach Corniche      East Coast   \n",
       "1133  1183      Bait Al Naboodah Museum    Sharjah City   \n",
       "1134  1184       Najd Al Maqsar Village  Central Region   \n",
       "1135  1185   Kalba Birds of Prey Centre      East Coast   \n",
       "1136  1186              The Royal Grill    Sharjah City   \n",
       "\n",
       "                                            Description       Type   Price  \\\n",
       "0     Ancient treasures and artifacts from UAE's pas...     museum     low   \n",
       "1     Historic Gulf home with coral walls, intricate...     museum     low   \n",
       "2     Historic house turned boutique hotel offers au...  old_hotel     low   \n",
       "3     Arab world's only museum dedicated to calligra...     museum     low   \n",
       "4     Cultural Square: 14-metre high Quran sculpture...     museum     low   \n",
       "...                                                 ...        ...     ...   \n",
       "1132  Explore the Kalba Beach Corniche in East Coast...     trendy    high   \n",
       "1133  Explore the Bait Al Naboodah Museum in Sharjah...   precious  medium   \n",
       "1134  Explore the Najd Al Maqsar Village in Central ...     lively  medium   \n",
       "1135  Explore the Kalba Birds of Prey Centre in East...   bustling  medium   \n",
       "1136  Explore the The Royal Grill in Sharjah City. A...   historic  medium   \n",
       "\n",
       "                                           openig-hours holiday  \\\n",
       "0     Saturday to Thursday:8:00 20:00 Friday:16:00 2...       0   \n",
       "1     Saturday to Thursday:8:00 20:00 Friday:16:00 2...       0   \n",
       "2     Saturday to Thursday: 8:00 20:00 Friday: 16:00...       0   \n",
       "3     Saturday to Thursday: 8:00 20:00 Friday: 16:00...       0   \n",
       "4                         friday to friday:12:00 00:00        0   \n",
       "...                                                 ...     ...   \n",
       "1132                Monday to Friday: 9:00 AM - 6:00 PM       0   \n",
       "1133                Monday to Friday: 9:00 AM - 6:00 PM       0   \n",
       "1134                Monday to Friday: 9:00 AM - 6:00 PM       0   \n",
       "1135                Monday to Friday: 9:00 AM - 6:00 PM       0   \n",
       "1136                Monday to Friday: 9:00 AM - 6:00 PM       0   \n",
       "\n",
       "               act_time                                       time  \n",
       "0            8:00 20:00          ['morning','afternoon','evening']  \n",
       "1            8:00 20:00          ['morning','afternoon','evening']  \n",
       "2            8:00 20:00          ['morning','afternoon','evening']  \n",
       "3            8:00 20:00          ['morning','afternoon','evening']  \n",
       "4           12:00 00:00  ['morning','afternoon','evening','night']  \n",
       "...                 ...                                        ...  \n",
       "1132  9:00 AM - 6:00 PM        ['morning', 'afternoon', 'evening']  \n",
       "1133  9:00 AM - 6:00 PM        ['morning', 'afternoon', 'evening']  \n",
       "1134  9:00 AM - 6:00 PM        ['morning', 'afternoon', 'evening']  \n",
       "1135  9:00 AM - 6:00 PM        ['morning', 'afternoon', 'evening']  \n",
       "1136  9:00 AM - 6:00 PM        ['morning', 'afternoon', 'evening']  \n",
       "\n",
       "[1137 rows x 10 columns]"
      ]
     },
     "execution_count": 5,
     "metadata": {},
     "output_type": "execute_result"
    }
   ],
   "source": [
    "df"
   ]
  },
  {
   "cell_type": "code",
   "execution_count": 6,
   "id": "d98edf1d-93d2-4c5c-a4d4-8e9411d317fc",
   "metadata": {},
   "outputs": [],
   "source": [
    "df['input_text'] = df['location']+\"\"+df['Type']\n",
    "df['target_text'] = df['Description']"
   ]
  },
  {
   "cell_type": "code",
   "execution_count": 7,
   "id": "c886333d-788c-4bc6-9c1f-9104d8ad07b7",
   "metadata": {},
   "outputs": [
    {
     "data": {
      "text/plain": [
       "41"
      ]
     },
     "execution_count": 7,
     "metadata": {},
     "output_type": "execute_result"
    }
   ],
   "source": [
    "df['input_text'].str.len().max()"
   ]
  },
  {
   "cell_type": "code",
   "execution_count": 8,
   "id": "2e17258a-9579-4056-9424-f715ab9f5cc8",
   "metadata": {},
   "outputs": [
    {
     "data": {
      "text/plain": [
       "163"
      ]
     },
     "execution_count": 8,
     "metadata": {},
     "output_type": "execute_result"
    }
   ],
   "source": [
    "df['target_text'].str.len().max()"
   ]
  },
  {
   "cell_type": "code",
   "execution_count": 9,
   "id": "720fbd36-5fa4-4db0-863a-0b1f5e21eac1",
   "metadata": {},
   "outputs": [],
   "source": [
    "train_df, test_df = train_test_split(df, test_size=0.2, random_state=42)"
   ]
  },
  {
   "cell_type": "code",
   "execution_count": 10,
   "id": "06030a68-c81f-47a8-9f9f-5ee4d24f4e70",
   "metadata": {},
   "outputs": [],
   "source": [
    "train_dataset = Dataset.from_pandas(train_df[['input_text', 'target_text']])\n",
    "test_dataset = Dataset.from_pandas(test_df[['input_text', 'target_text']])"
   ]
  },
  {
   "cell_type": "code",
   "execution_count": 11,
   "id": "9452222f-3aa9-4b59-b8bb-4e03ef0c6030",
   "metadata": {},
   "outputs": [
    {
     "name": "stderr",
     "output_type": "stream",
     "text": [
      "You are using the default legacy behaviour of the <class 'transformers.models.t5.tokenization_t5.T5Tokenizer'>. This is expected, and simply means that the `legacy` (previous) behavior will be used so nothing changes for you. If you want to use the new behaviour, set `legacy=False`. This should only be set if you understand what it means, and thoroughly read the reason why this was added as explained in https://github.com/huggingface/transformers/pull/24565\n",
      "Special tokens have been added in the vocabulary, make sure the associated word embeddings are fine-tuned or trained.\n",
      "I0000 00:00:1739625295.435700   13383 cuda_executor.cc:1001] could not open file to read NUMA node: /sys/bus/pci/devices/0000:01:00.0/numa_node\n",
      "Your kernel may have been built without NUMA support.\n",
      "I0000 00:00:1739625295.435768   13383 cuda_executor.cc:1001] could not open file to read NUMA node: /sys/bus/pci/devices/0000:01:00.0/numa_node\n",
      "Your kernel may have been built without NUMA support.\n",
      "I0000 00:00:1739625295.435792   13383 cuda_executor.cc:1001] could not open file to read NUMA node: /sys/bus/pci/devices/0000:01:00.0/numa_node\n",
      "Your kernel may have been built without NUMA support.\n",
      "I0000 00:00:1739625295.591169   13383 cuda_executor.cc:1001] could not open file to read NUMA node: /sys/bus/pci/devices/0000:01:00.0/numa_node\n",
      "Your kernel may have been built without NUMA support.\n",
      "I0000 00:00:1739625295.591243   13383 cuda_executor.cc:1001] could not open file to read NUMA node: /sys/bus/pci/devices/0000:01:00.0/numa_node\n",
      "Your kernel may have been built without NUMA support.\n",
      "2025-02-15 16:14:55.591256: I tensorflow/core/common_runtime/gpu/gpu_device.cc:2112] Could not identify NUMA node of platform GPU id 0, defaulting to 0.  Your kernel may not have been built with NUMA support.\n",
      "I0000 00:00:1739625295.591297   13383 cuda_executor.cc:1001] could not open file to read NUMA node: /sys/bus/pci/devices/0000:01:00.0/numa_node\n",
      "Your kernel may have been built without NUMA support.\n",
      "2025-02-15 16:14:55.591316: I tensorflow/core/common_runtime/gpu/gpu_device.cc:2021] Created device /job:localhost/replica:0/task:0/device:GPU:0 with 5563 MB memory:  -> device: 0, name: NVIDIA GeForce RTX 4060 Laptop GPU, pci bus id: 0000:01:00.0, compute capability: 8.9\n",
      "All PyTorch model weights were used when initializing TFT5ForConditionalGeneration.\n",
      "\n",
      "All the weights of TFT5ForConditionalGeneration were initialized from the PyTorch model.\n",
      "If your task is similar to the task the model of the checkpoint was trained on, you can already use TFT5ForConditionalGeneration for predictions without further training.\n"
     ]
    }
   ],
   "source": [
    "tokenizer = T5Tokenizer.from_pretrained(\"t5-base\")\n",
    "model = TFAutoModelForSeq2SeqLM.from_pretrained(\"t5-base\")"
   ]
  },
  {
   "cell_type": "code",
   "execution_count": null,
   "id": "b057f2b3-d8de-47bf-9f47-1a7d55bd9ad7",
   "metadata": {},
   "outputs": [],
   "source": [
    "tokenizer"
   ]
  },
  {
   "cell_type": "code",
   "execution_count": 13,
   "id": "5a0e855e-3f3d-495f-9ad7-74c640bbf1cb",
   "metadata": {},
   "outputs": [],
   "source": [
    "tokenizer.pad_token_id=tokenizer.eos_token_id"
   ]
  },
  {
   "cell_type": "code",
   "execution_count": 14,
   "id": "09be6906-50c3-401c-8936-7f8e4d1515ad",
   "metadata": {},
   "outputs": [
    {
     "data": {
      "application/vnd.jupyter.widget-view+json": {
       "model_id": "a1245e5523024ac9bff5313ba8e9d527",
       "version_major": 2,
       "version_minor": 0
      },
      "text/plain": [
       "Map:   0%|          | 0/909 [00:00<?, ? examples/s]"
      ]
     },
     "metadata": {},
     "output_type": "display_data"
    },
    {
     "data": {
      "application/vnd.jupyter.widget-view+json": {
       "model_id": "a2a8e6c37d674ae58b0c51787f826086",
       "version_major": 2,
       "version_minor": 0
      },
      "text/plain": [
       "Map:   0%|          | 0/228 [00:00<?, ? examples/s]"
      ]
     },
     "metadata": {},
     "output_type": "display_data"
    }
   ],
   "source": [
    "from transformers import T5Tokenizer\n",
    "import tensorflow as tf\n",
    "def tokenize_function(examples):\n",
    "    input_texts = [str(text) if isinstance(text, str) else \"\" for text in examples[\"input_text\"]]\n",
    "    target_texts = [str(text) if isinstance(text, str) else \"\" for text in examples[\"target_text\"]]\n",
    "    model_inputs = tokenizer(input_texts, padding=\"max_length\", truncation=True, max_length=163, return_tensors=\"tf\")\n",
    "    labels = tokenizer(target_texts, padding=\"max_length\", truncation=True, max_length=163, return_tensors=\"tf\")\n",
    "    decoder_input_ids = labels['input_ids'][:, :-1]\n",
    "    decoder_input_ids = tf.concat([tf.zeros_like(decoder_input_ids[:, :1]), decoder_input_ids], axis=1)\n",
    "    model_inputs[\"labels\"] = labels[\"input_ids\"]\n",
    "    model_inputs[\"decoder_input_ids\"] = decoder_input_ids\n",
    "    return model_inputs\n",
    "train_dataset = train_dataset.map(tokenize_function, batched=True)\n",
    "test_dataset = test_dataset.map(tokenize_function, batched=True)\n",
    "def to_tf_dataset(dataset):\n",
    "    return tf.data.Dataset.from_tensor_slices((\n",
    "        {\n",
    "            'input_ids': dataset['input_ids'],\n",
    "            'attention_mask': dataset['attention_mask'],\n",
    "            'decoder_input_ids': dataset['decoder_input_ids'],\n",
    "        },\n",
    "        dataset['labels']\n",
    "    ))\n",
    "train_tf_dataset = to_tf_dataset(train_dataset).batch(8)\n",
    "test_tf_dataset = to_tf_dataset(test_dataset).batch(8)\n"
   ]
  },
  {
   "cell_type": "code",
   "execution_count": 15,
   "id": "abd862b7-240d-4c1e-81e7-619f249006ea",
   "metadata": {},
   "outputs": [],
   "source": [
    "train_tf_dataset = to_tf_dataset(train_dataset).batch(1)\n",
    "test_tf_dataset = to_tf_dataset(test_dataset).batch(1)\n"
   ]
  },
  {
   "cell_type": "code",
   "execution_count": 16,
   "id": "cbe525b1-467c-473a-ae19-a18a9f417e09",
   "metadata": {},
   "outputs": [],
   "source": [
    "from keras.optimizers import Adam\n",
    "model.compile(optimizer='adam', \n",
    "              loss=tf.keras.losses.SparseCategoricalCrossentropy(from_logits=True), \n",
    "              metrics=['accuracy'])"
   ]
  },
  {
   "cell_type": "code",
   "execution_count": 17,
   "id": "66cef10b-f0a2-4603-b88e-9da21503ea26",
   "metadata": {},
   "outputs": [
    {
     "name": "stdout",
     "output_type": "stream",
     "text": [
      "Epoch 1/15\n"
     ]
    },
    {
     "name": "stderr",
     "output_type": "stream",
     "text": [
      "WARNING: All log messages before absl::InitializeLog() is called are written to STDERR\n",
      "I0000 00:00:1739625316.127512   13508 service.cc:146] XLA service 0x7fd1b540f6f0 initialized for platform CUDA (this does not guarantee that XLA will be used). Devices:\n",
      "I0000 00:00:1739625316.127572   13508 service.cc:154]   StreamExecutor device (0): NVIDIA GeForce RTX 4060 Laptop GPU, Compute Capability 8.9\n",
      "2025-02-15 16:15:16.137414: I tensorflow/compiler/mlir/tensorflow/utils/dump_mlir_util.cc:268] disabling MLIR crash reproducer, set env var `MLIR_CRASH_REPRODUCER_DIRECTORY` to enable.\n",
      "2025-02-15 16:15:16.153349: I external/local_xla/xla/stream_executor/cuda/cuda_dnn.cc:531] Loaded cuDNN version 8902\n",
      "I0000 00:00:1739625316.192968   13508 device_compiler.h:188] Compiled cluster using XLA!  This line is logged at most once for the lifetime of the process.\n"
     ]
    },
    {
     "name": "stdout",
     "output_type": "stream",
     "text": [
      "909/909 [==============================] - 207s 201ms/step - loss: 0.1645 - accuracy: 0.9725 - val_loss: 0.1157 - val_accuracy: 0.9787\n",
      "Epoch 2/15\n",
      "909/909 [==============================] - 180s 198ms/step - loss: 0.1000 - accuracy: 0.9809 - val_loss: 0.1044 - val_accuracy: 0.9804\n",
      "Epoch 3/15\n",
      "909/909 [==============================] - 186s 205ms/step - loss: 0.0808 - accuracy: 0.9835 - val_loss: 0.1055 - val_accuracy: 0.9816\n",
      "Epoch 4/15\n",
      "909/909 [==============================] - 183s 202ms/step - loss: 0.0683 - accuracy: 0.9850 - val_loss: 0.1035 - val_accuracy: 0.9819\n",
      "Epoch 5/15\n",
      "909/909 [==============================] - 181s 199ms/step - loss: 0.0631 - accuracy: 0.9857 - val_loss: 0.1046 - val_accuracy: 0.9820\n",
      "Epoch 6/15\n",
      "909/909 [==============================] - 179s 197ms/step - loss: 0.0588 - accuracy: 0.9864 - val_loss: 0.1110 - val_accuracy: 0.9819\n",
      "Epoch 7/15\n",
      "909/909 [==============================] - 185s 204ms/step - loss: 0.0543 - accuracy: 0.9870 - val_loss: 0.1126 - val_accuracy: 0.9825\n",
      "Epoch 8/15\n",
      "909/909 [==============================] - 187s 205ms/step - loss: 0.0514 - accuracy: 0.9879 - val_loss: 0.1105 - val_accuracy: 0.9823\n",
      "Epoch 9/15\n",
      "909/909 [==============================] - 180s 198ms/step - loss: 0.0497 - accuracy: 0.9879 - val_loss: 0.1211 - val_accuracy: 0.9817\n",
      "Epoch 10/15\n",
      "909/909 [==============================] - 176s 193ms/step - loss: 0.0486 - accuracy: 0.9883 - val_loss: 0.1160 - val_accuracy: 0.9818\n",
      "Epoch 11/15\n",
      "909/909 [==============================] - 184s 202ms/step - loss: 0.0466 - accuracy: 0.9885 - val_loss: 0.1183 - val_accuracy: 0.9824\n",
      "Epoch 12/15\n",
      "909/909 [==============================] - 183s 201ms/step - loss: 0.0461 - accuracy: 0.9887 - val_loss: 0.1260 - val_accuracy: 0.9816\n",
      "Epoch 13/15\n",
      "909/909 [==============================] - 184s 203ms/step - loss: 0.0435 - accuracy: 0.9890 - val_loss: 0.1202 - val_accuracy: 0.9825\n",
      "Epoch 14/15\n",
      "909/909 [==============================] - 184s 202ms/step - loss: 0.0418 - accuracy: 0.9893 - val_loss: 0.1212 - val_accuracy: 0.9819\n",
      "Epoch 15/15\n",
      "909/909 [==============================] - 186s 204ms/step - loss: 0.0402 - accuracy: 0.9897 - val_loss: 0.1248 - val_accuracy: 0.9821\n"
     ]
    },
    {
     "data": {
      "text/plain": [
       "<tf_keras.src.callbacks.History at 0x7fd22c18c9a0>"
      ]
     },
     "execution_count": 17,
     "metadata": {},
     "output_type": "execute_result"
    }
   ],
   "source": [
    "model.fit(train_tf_dataset, validation_data=test_tf_dataset, epochs=15)\n"
   ]
  },
  {
   "cell_type": "code",
   "execution_count": 32,
   "id": "9e00a640-8bd9-4e57-b31c-547dea952bf0",
   "metadata": {},
   "outputs": [
    {
     "name": "stdout",
     "output_type": "stream",
     "text": [
      "Waterfront hotel and residences near city center with shuttle to beach.\n"
     ]
    }
   ],
   "source": [
    "new_keywords = [\"Sharjah City old_hotel\"\n",
    "]\n",
    "input_ids = tokenizer(new_keywords, return_tensors=\"tf\").input_ids\n",
    "generated_ids = model.generate(input_ids, max_length=163, num_beams=5, no_repeat_ngram_size=2)\n",
    "generated_text = tokenizer.decode(generated_ids[0], skip_special_tokens=True)\n",
    "print(generated_text)\n",
    "\n"
   ]
  },
  {
   "cell_type": "code",
   "execution_count": 21,
   "id": "9519b6f2-0d00-4e65-99ed-9f0701b47869",
   "metadata": {},
   "outputs": [
    {
     "data": {
      "text/plain": [
       "1"
      ]
     },
     "execution_count": 21,
     "metadata": {},
     "output_type": "execute_result"
    }
   ],
   "source": [
    "tokenizer.pad_token_id"
   ]
  },
  {
   "cell_type": "code",
   "execution_count": 23,
   "id": "98591747-8329-4bce-bf51-964429a8f046",
   "metadata": {},
   "outputs": [
    {
     "data": {
      "text/plain": [
       "{'eos_token': '</s>',\n",
       " 'unk_token': '<unk>',\n",
       " 'pad_token': '</s>',\n",
       " 'additional_special_tokens': ['<extra_id_0>',\n",
       "  '<extra_id_1>',\n",
       "  '<extra_id_2>',\n",
       "  '<extra_id_3>',\n",
       "  '<extra_id_4>',\n",
       "  '<extra_id_5>',\n",
       "  '<extra_id_6>',\n",
       "  '<extra_id_7>',\n",
       "  '<extra_id_8>',\n",
       "  '<extra_id_9>',\n",
       "  '<extra_id_10>',\n",
       "  '<extra_id_11>',\n",
       "  '<extra_id_12>',\n",
       "  '<extra_id_13>',\n",
       "  '<extra_id_14>',\n",
       "  '<extra_id_15>',\n",
       "  '<extra_id_16>',\n",
       "  '<extra_id_17>',\n",
       "  '<extra_id_18>',\n",
       "  '<extra_id_19>',\n",
       "  '<extra_id_20>',\n",
       "  '<extra_id_21>',\n",
       "  '<extra_id_22>',\n",
       "  '<extra_id_23>',\n",
       "  '<extra_id_24>',\n",
       "  '<extra_id_25>',\n",
       "  '<extra_id_26>',\n",
       "  '<extra_id_27>',\n",
       "  '<extra_id_28>',\n",
       "  '<extra_id_29>',\n",
       "  '<extra_id_30>',\n",
       "  '<extra_id_31>',\n",
       "  '<extra_id_32>',\n",
       "  '<extra_id_33>',\n",
       "  '<extra_id_34>',\n",
       "  '<extra_id_35>',\n",
       "  '<extra_id_36>',\n",
       "  '<extra_id_37>',\n",
       "  '<extra_id_38>',\n",
       "  '<extra_id_39>',\n",
       "  '<extra_id_40>',\n",
       "  '<extra_id_41>',\n",
       "  '<extra_id_42>',\n",
       "  '<extra_id_43>',\n",
       "  '<extra_id_44>',\n",
       "  '<extra_id_45>',\n",
       "  '<extra_id_46>',\n",
       "  '<extra_id_47>',\n",
       "  '<extra_id_48>',\n",
       "  '<extra_id_49>',\n",
       "  '<extra_id_50>',\n",
       "  '<extra_id_51>',\n",
       "  '<extra_id_52>',\n",
       "  '<extra_id_53>',\n",
       "  '<extra_id_54>',\n",
       "  '<extra_id_55>',\n",
       "  '<extra_id_56>',\n",
       "  '<extra_id_57>',\n",
       "  '<extra_id_58>',\n",
       "  '<extra_id_59>',\n",
       "  '<extra_id_60>',\n",
       "  '<extra_id_61>',\n",
       "  '<extra_id_62>',\n",
       "  '<extra_id_63>',\n",
       "  '<extra_id_64>',\n",
       "  '<extra_id_65>',\n",
       "  '<extra_id_66>',\n",
       "  '<extra_id_67>',\n",
       "  '<extra_id_68>',\n",
       "  '<extra_id_69>',\n",
       "  '<extra_id_70>',\n",
       "  '<extra_id_71>',\n",
       "  '<extra_id_72>',\n",
       "  '<extra_id_73>',\n",
       "  '<extra_id_74>',\n",
       "  '<extra_id_75>',\n",
       "  '<extra_id_76>',\n",
       "  '<extra_id_77>',\n",
       "  '<extra_id_78>',\n",
       "  '<extra_id_79>',\n",
       "  '<extra_id_80>',\n",
       "  '<extra_id_81>',\n",
       "  '<extra_id_82>',\n",
       "  '<extra_id_83>',\n",
       "  '<extra_id_84>',\n",
       "  '<extra_id_85>',\n",
       "  '<extra_id_86>',\n",
       "  '<extra_id_87>',\n",
       "  '<extra_id_88>',\n",
       "  '<extra_id_89>',\n",
       "  '<extra_id_90>',\n",
       "  '<extra_id_91>',\n",
       "  '<extra_id_92>',\n",
       "  '<extra_id_93>',\n",
       "  '<extra_id_94>',\n",
       "  '<extra_id_95>',\n",
       "  '<extra_id_96>',\n",
       "  '<extra_id_97>',\n",
       "  '<extra_id_98>',\n",
       "  '<extra_id_99>']}"
      ]
     },
     "execution_count": 23,
     "metadata": {},
     "output_type": "execute_result"
    }
   ],
   "source": [
    "tokenizer.special_tokens_map"
   ]
  },
  {
   "cell_type": "code",
   "execution_count": 29,
   "id": "e979e95f-9184-4946-9aca-c6612e0c6417",
   "metadata": {},
   "outputs": [],
   "source": [
    "tokenizer.pad_token_id=0"
   ]
  },
  {
   "cell_type": "code",
   "execution_count": 30,
   "id": "667fe064-bb0e-4628-af5c-88577972db91",
   "metadata": {},
   "outputs": [],
   "source": [
    "tokenizer.eos_token_id=1"
   ]
  },
  {
   "cell_type": "code",
   "execution_count": 33,
   "id": "2e8d7ec9-9598-4149-97a8-55afd76f436a",
   "metadata": {},
   "outputs": [
    {
     "name": "stderr",
     "output_type": "stream",
     "text": [
      "2025-02-15 18:14:23.759778: I tensorflow/core/framework/local_rendezvous.cc:404] Local rendezvous is aborting with status: OUT_OF_RANGE: End of sequence\n"
     ]
    }
   ],
   "source": [
    "def generate_predictions(dataset, model, tokenizer):\n",
    "    predictions, references = [], []\n",
    "    for batch in dataset:\n",
    "        input_ids = batch[0]['input_ids']\n",
    "        attention_mask = batch[0]['attention_mask']\n",
    "        labels = batch[1]\n",
    "        outputs = model.generate(input_ids=input_ids, attention_mask=attention_mask, max_length=462)\n",
    "        decoded_preds = tokenizer.batch_decode(outputs, skip_special_tokens=True)\n",
    "        decoded_refs = tokenizer.batch_decode(labels, skip_special_tokens=True)\n",
    "        predictions.extend(decoded_preds)\n",
    "        references.extend(decoded_refs)\n",
    "    return predictions, references\n",
    "predictions, references = generate_predictions(train_tf_dataset, model, tokenizer)"
   ]
  },
  {
   "cell_type": "code",
   "execution_count": 35,
   "id": "c1d72426-dbe6-4332-92f9-4e1ade2338cb",
   "metadata": {},
   "outputs": [],
   "source": [
    "from nltk.translate.bleu_score import sentence_bleu\n",
    "from rouge_score import rouge_scorer"
   ]
  },
  {
   "cell_type": "code",
   "execution_count": 36,
   "id": "ce1dd528-1fcd-48c8-9ec5-fc8e6f196305",
   "metadata": {},
   "outputs": [
    {
     "name": "stdout",
     "output_type": "stream",
     "text": [
      "Average BLEU Score: 0.5343529689622204\n"
     ]
    },
    {
     "name": "stderr",
     "output_type": "stream",
     "text": [
      "/home/mina/.local/lib/python3.10/site-packages/nltk/translate/bleu_score.py:552: UserWarning: \n",
      "The hypothesis contains 0 counts of 2-gram overlaps.\n",
      "Therefore the BLEU score evaluates to 0, independently of\n",
      "how many N-gram overlaps of lower order it contains.\n",
      "Consider using lower n-gram order or use SmoothingFunction()\n",
      "  warnings.warn(_msg)\n",
      "/home/mina/.local/lib/python3.10/site-packages/nltk/translate/bleu_score.py:552: UserWarning: \n",
      "The hypothesis contains 0 counts of 3-gram overlaps.\n",
      "Therefore the BLEU score evaluates to 0, independently of\n",
      "how many N-gram overlaps of lower order it contains.\n",
      "Consider using lower n-gram order or use SmoothingFunction()\n",
      "  warnings.warn(_msg)\n",
      "/home/mina/.local/lib/python3.10/site-packages/nltk/translate/bleu_score.py:552: UserWarning: \n",
      "The hypothesis contains 0 counts of 4-gram overlaps.\n",
      "Therefore the BLEU score evaluates to 0, independently of\n",
      "how many N-gram overlaps of lower order it contains.\n",
      "Consider using lower n-gram order or use SmoothingFunction()\n",
      "  warnings.warn(_msg)\n"
     ]
    }
   ],
   "source": [
    "def calculate_bleu(predictions, references):\n",
    "    bleu_scores = []\n",
    "    for pred, ref in zip(predictions, references):\n",
    "        ref_tokens = ref.split()\n",
    "        pred_tokens = pred.split()\n",
    "        score = sentence_bleu([ref_tokens], pred_tokens)\n",
    "        bleu_scores.append(score)\n",
    "    return sum(bleu_scores) / len(bleu_scores)\n",
    "bleu_score = calculate_bleu(predictions, references)\n",
    "print(f\"Average BLEU Score: {bleu_score}\")"
   ]
  },
  {
   "cell_type": "code",
   "execution_count": 37,
   "id": "c5340674-3a37-44e9-ae01-30c54c205f95",
   "metadata": {},
   "outputs": [
    {
     "name": "stdout",
     "output_type": "stream",
     "text": [
      "ROUGE-1: 0.7255\n",
      "ROUGE-2: 0.6324\n",
      "ROUGE-L: 0.7232\n"
     ]
    }
   ],
   "source": [
    "def calculate_rouge(predictions, references):\n",
    "    scorer = rouge_scorer.RougeScorer(['rouge1', 'rouge2', 'rougeL'], use_stemmer=True)\n",
    "    rouge1, rouge2, rougeL = 0, 0, 0\n",
    "    for pred, ref in zip(predictions, references):\n",
    "        scores = scorer.score(ref, pred)\n",
    "        rouge1 += scores['rouge1'].fmeasure\n",
    "        rouge2 += scores['rouge2'].fmeasure\n",
    "        rougeL += scores['rougeL'].fmeasure\n",
    "    n = len(predictions)\n",
    "    return {\n",
    "        \"rouge1\": rouge1 / n,\n",
    "        \"rouge2\": rouge2 / n,\n",
    "        \"rougeL\": rougeL / n\n",
    "    }\n",
    "rouge_scores = calculate_rouge(predictions, references)\n",
    "print(f\"ROUGE-1: {rouge_scores['rouge1']:.4f}\")\n",
    "print(f\"ROUGE-2: {rouge_scores['rouge2']:.4f}\")\n",
    "print(f\"ROUGE-L: {rouge_scores['rougeL']:.4f}\")"
   ]
  },
  {
   "cell_type": "code",
   "execution_count": 39,
   "id": "48234668-af40-46ad-8635-cf614e8be534",
   "metadata": {},
   "outputs": [],
   "source": [
    "model.save_pretrained('T5BaseTripDescripton')"
   ]
  },
  {
   "cell_type": "code",
   "execution_count": 40,
   "id": "efc618e2-1afe-4369-b9fe-7771703222fc",
   "metadata": {},
   "outputs": [
    {
     "data": {
      "text/plain": [
       "('T5BaseTripDescriptoontokenizer/tokenizer_config.json',\n",
       " 'T5BaseTripDescriptoontokenizer/special_tokens_map.json',\n",
       " 'T5BaseTripDescriptoontokenizer/spiece.model',\n",
       " 'T5BaseTripDescriptoontokenizer/added_tokens.json')"
      ]
     },
     "execution_count": 40,
     "metadata": {},
     "output_type": "execute_result"
    }
   ],
   "source": [
    "tokenizer.save_pretrained('T5BaseTripDescriptoontokenizer')"
   ]
  },
  {
   "cell_type": "code",
   "execution_count": null,
   "id": "ee48bcc2-13e6-4812-a81b-34973b74ae8f",
   "metadata": {},
   "outputs": [],
   "source": []
  }
 ],
 "metadata": {
  "kernelspec": {
   "display_name": "Python 3 (ipykernel)",
   "language": "python",
   "name": "python3"
  },
  "language_info": {
   "codemirror_mode": {
    "name": "ipython",
    "version": 3
   },
   "file_extension": ".py",
   "mimetype": "text/x-python",
   "name": "python",
   "nbconvert_exporter": "python",
   "pygments_lexer": "ipython3",
   "version": "3.10.12"
  }
 },
 "nbformat": 4,
 "nbformat_minor": 5
}
